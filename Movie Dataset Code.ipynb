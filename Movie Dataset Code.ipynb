{
 "cells": [
  {
   "cell_type": "markdown",
   "metadata": {},
   "source": [
    "# Movie Dataset Analysis"
   ]
  },
  {
   "cell_type": "markdown",
   "metadata": {},
   "source": [
    "#### Movie data set for understanding characteristics of a successful movie\n",
    "We are trying to understand the characteristics of a successful movie based on the following information:\n",
    "* Movie information: Genre, Duration, Plot keywords, Top-3 actors, Rating, Title year, aspect ratio, Director, Facebook likes, Faces on the poster\n",
    "* Actor information: Facebook likes, Oscars won, movie frequency\n",
    "* Director information: Movie frequency, Facebook likes\n",
    "* Other information: Number of critics, Number of reviews"
   ]
  },
  {
   "cell_type": "markdown",
   "metadata": {},
   "source": [
    "## Step 1: Data Preprocessing"
   ]
  },
  {
   "cell_type": "markdown",
   "metadata": {},
   "source": [
    "Reading in the files"
   ]
  },
  {
   "cell_type": "code",
   "execution_count": 1,
   "metadata": {},
   "outputs": [],
   "source": [
    "import pandas as pd\n",
    "import numpy as np"
   ]
  },
  {
   "cell_type": "code",
   "execution_count": 2,
   "metadata": {},
   "outputs": [],
   "source": [
    "movies_df = pd.read_csv('movies.csv')"
   ]
  },
  {
   "cell_type": "markdown",
   "metadata": {},
   "source": [
    "Looking at the first 5 rows of the Table"
   ]
  },
  {
   "cell_type": "code",
   "execution_count": 3,
   "metadata": {},
   "outputs": [
    {
     "data": {
      "text/html": [
       "<div>\n",
       "<style scoped>\n",
       "    .dataframe tbody tr th:only-of-type {\n",
       "        vertical-align: middle;\n",
       "    }\n",
       "\n",
       "    .dataframe tbody tr th {\n",
       "        vertical-align: top;\n",
       "    }\n",
       "\n",
       "    .dataframe thead th {\n",
       "        text-align: right;\n",
       "    }\n",
       "</style>\n",
       "<table border=\"1\" class=\"dataframe\">\n",
       "  <thead>\n",
       "    <tr style=\"text-align: right;\">\n",
       "      <th></th>\n",
       "      <th>id</th>\n",
       "      <th>movie_title</th>\n",
       "      <th>movie_facebook_likes</th>\n",
       "      <th>color</th>\n",
       "      <th>director_name</th>\n",
       "      <th>prolific_director</th>\n",
       "      <th>director_facebook_likes</th>\n",
       "      <th>actor_1_name</th>\n",
       "      <th>actor_2_name</th>\n",
       "      <th>actor_3_name</th>\n",
       "      <th>...</th>\n",
       "      <th>num_user_for_reviews</th>\n",
       "      <th>language</th>\n",
       "      <th>country</th>\n",
       "      <th>content_rating</th>\n",
       "      <th>title_year</th>\n",
       "      <th>imdb_score</th>\n",
       "      <th>oscar_nom_movie</th>\n",
       "      <th>oscar_nom_actor</th>\n",
       "      <th>duration</th>\n",
       "      <th>aspect_ratio</th>\n",
       "    </tr>\n",
       "  </thead>\n",
       "  <tbody>\n",
       "    <tr>\n",
       "      <th>0</th>\n",
       "      <td>1</td>\n",
       "      <td>Intolerance: Love's Struggle Throughout the Ages</td>\n",
       "      <td>691</td>\n",
       "      <td>Black and White</td>\n",
       "      <td>D.W. Griffith</td>\n",
       "      <td>1</td>\n",
       "      <td>204.0</td>\n",
       "      <td>Lillian Gish</td>\n",
       "      <td>Mae Marsh</td>\n",
       "      <td>Walter Long</td>\n",
       "      <td>...</td>\n",
       "      <td>88.0</td>\n",
       "      <td>None</td>\n",
       "      <td>USA</td>\n",
       "      <td>Unrated</td>\n",
       "      <td>1916.0</td>\n",
       "      <td>8.0</td>\n",
       "      <td>0</td>\n",
       "      <td>1</td>\n",
       "      <td>123.0</td>\n",
       "      <td>1.33</td>\n",
       "    </tr>\n",
       "    <tr>\n",
       "      <th>1</th>\n",
       "      <td>2</td>\n",
       "      <td>Over the Hill to the Poorhouse</td>\n",
       "      <td>0</td>\n",
       "      <td>Black and White</td>\n",
       "      <td>Harry F. Millarde</td>\n",
       "      <td>1</td>\n",
       "      <td>0.0</td>\n",
       "      <td>Stephen Carr</td>\n",
       "      <td>Johnnie Walker</td>\n",
       "      <td>Mary Carr</td>\n",
       "      <td>...</td>\n",
       "      <td>1.0</td>\n",
       "      <td>None</td>\n",
       "      <td>USA</td>\n",
       "      <td>Missing</td>\n",
       "      <td>1920.0</td>\n",
       "      <td>4.8</td>\n",
       "      <td>0</td>\n",
       "      <td>0</td>\n",
       "      <td>110.0</td>\n",
       "      <td>1.33</td>\n",
       "    </tr>\n",
       "    <tr>\n",
       "      <th>2</th>\n",
       "      <td>3</td>\n",
       "      <td>The Big Parade</td>\n",
       "      <td>226</td>\n",
       "      <td>Black and White</td>\n",
       "      <td>King Vidor</td>\n",
       "      <td>3</td>\n",
       "      <td>54.0</td>\n",
       "      <td>John Gilbert</td>\n",
       "      <td>RenÃ©e AdorÃ©e</td>\n",
       "      <td>Claire Adams</td>\n",
       "      <td>...</td>\n",
       "      <td>45.0</td>\n",
       "      <td>None</td>\n",
       "      <td>USA</td>\n",
       "      <td>Unrated</td>\n",
       "      <td>1925.0</td>\n",
       "      <td>8.3</td>\n",
       "      <td>0</td>\n",
       "      <td>0</td>\n",
       "      <td>151.0</td>\n",
       "      <td>1.33</td>\n",
       "    </tr>\n",
       "    <tr>\n",
       "      <th>3</th>\n",
       "      <td>4</td>\n",
       "      <td>Metropolis</td>\n",
       "      <td>12000</td>\n",
       "      <td>Black and White</td>\n",
       "      <td>Fritz Lang</td>\n",
       "      <td>1</td>\n",
       "      <td>756.0</td>\n",
       "      <td>Brigitte Helm</td>\n",
       "      <td>Gustav FrÃ¶hlich</td>\n",
       "      <td>Rudolf Klein-Rogge</td>\n",
       "      <td>...</td>\n",
       "      <td>413.0</td>\n",
       "      <td>German</td>\n",
       "      <td>Germany</td>\n",
       "      <td>Unrated</td>\n",
       "      <td>1927.0</td>\n",
       "      <td>8.3</td>\n",
       "      <td>0</td>\n",
       "      <td>0</td>\n",
       "      <td>145.0</td>\n",
       "      <td>1.33</td>\n",
       "    </tr>\n",
       "    <tr>\n",
       "      <th>4</th>\n",
       "      <td>5</td>\n",
       "      <td>The Broadway Melody</td>\n",
       "      <td>1718</td>\n",
       "      <td>Black and White</td>\n",
       "      <td>Harry Beaumont</td>\n",
       "      <td>1</td>\n",
       "      <td>4.0</td>\n",
       "      <td>Anita Page</td>\n",
       "      <td>Bessie Love</td>\n",
       "      <td>Charles King</td>\n",
       "      <td>...</td>\n",
       "      <td>71.0</td>\n",
       "      <td>English</td>\n",
       "      <td>USA</td>\n",
       "      <td>PG</td>\n",
       "      <td>1929.0</td>\n",
       "      <td>6.3</td>\n",
       "      <td>2</td>\n",
       "      <td>1</td>\n",
       "      <td>100.0</td>\n",
       "      <td>1.37</td>\n",
       "    </tr>\n",
       "  </tbody>\n",
       "</table>\n",
       "<p>5 rows × 34 columns</p>\n",
       "</div>"
      ],
      "text/plain": [
       "   id                                       movie_title  movie_facebook_likes  \\\n",
       "0   1  Intolerance: Love's Struggle Throughout the Ages                   691   \n",
       "1   2                    Over the Hill to the Poorhouse                     0   \n",
       "2   3                                    The Big Parade                   226   \n",
       "3   4                                        Metropolis                 12000   \n",
       "4   5                               The Broadway Melody                  1718   \n",
       "\n",
       "              color      director_name  prolific_director  \\\n",
       "0   Black and White      D.W. Griffith                  1   \n",
       "1   Black and White  Harry F. Millarde                  1   \n",
       "2   Black and White         King Vidor                  3   \n",
       "3   Black and White         Fritz Lang                  1   \n",
       "4   Black and White     Harry Beaumont                  1   \n",
       "\n",
       "   director_facebook_likes   actor_1_name      actor_2_name  \\\n",
       "0                    204.0   Lillian Gish         Mae Marsh   \n",
       "1                      0.0   Stephen Carr    Johnnie Walker   \n",
       "2                     54.0   John Gilbert    RenÃ©e AdorÃ©e   \n",
       "3                    756.0  Brigitte Helm  Gustav FrÃ¶hlich   \n",
       "4                      4.0     Anita Page       Bessie Love   \n",
       "\n",
       "         actor_3_name  ... num_user_for_reviews language  country  \\\n",
       "0         Walter Long  ...                 88.0     None      USA   \n",
       "1           Mary Carr  ...                  1.0     None      USA   \n",
       "2        Claire Adams  ...                 45.0     None      USA   \n",
       "3  Rudolf Klein-Rogge  ...                413.0   German  Germany   \n",
       "4        Charles King  ...                 71.0  English      USA   \n",
       "\n",
       "   content_rating  title_year  imdb_score  oscar_nom_movie  oscar_nom_actor  \\\n",
       "0         Unrated      1916.0         8.0                0                1   \n",
       "1         Missing      1920.0         4.8                0                0   \n",
       "2         Unrated      1925.0         8.3                0                0   \n",
       "3         Unrated      1927.0         8.3                0                0   \n",
       "4              PG      1929.0         6.3                2                1   \n",
       "\n",
       "  duration  aspect_ratio  \n",
       "0    123.0          1.33  \n",
       "1    110.0          1.33  \n",
       "2    151.0          1.33  \n",
       "3    145.0          1.33  \n",
       "4    100.0          1.37  \n",
       "\n",
       "[5 rows x 34 columns]"
      ]
     },
     "execution_count": 3,
     "metadata": {},
     "output_type": "execute_result"
    }
   ],
   "source": [
    "movies_df.head()"
   ]
  },
  {
   "cell_type": "markdown",
   "metadata": {},
   "source": [
    "Looking at the column names"
   ]
  },
  {
   "cell_type": "code",
   "execution_count": 4,
   "metadata": {},
   "outputs": [
    {
     "data": {
      "text/plain": [
       "Index(['id', 'movie_title', 'movie_facebook_likes', 'color', 'director_name',\n",
       "       'prolific_director', 'director_facebook_likes', 'actor_1_name',\n",
       "       'actor_2_name', 'actor_3_name', 'prolific_actor_1', 'prolific_actor_2',\n",
       "       'prolific_actor_3', 'actor_1_facebook_likes', 'actor_2_facebook_likes',\n",
       "       'actor_3_facebook_likes', 'budget', 'gross', 'genres',\n",
       "       'num_critic_for_reviews', 'num_voted_users', 'facenumber_in_poster',\n",
       "       'plot_keywords', 'movie_imdb_link', 'num_user_for_reviews', 'language',\n",
       "       'country', 'content_rating', 'title_year', 'imdb_score',\n",
       "       'oscar_nom_movie', 'oscar_nom_actor', 'duration', 'aspect_ratio'],\n",
       "      dtype='object')"
      ]
     },
     "execution_count": 4,
     "metadata": {},
     "output_type": "execute_result"
    }
   ],
   "source": [
    "movies_df.columns"
   ]
  },
  {
   "cell_type": "markdown",
   "metadata": {},
   "source": [
    "Exploring data type of each variable"
   ]
  },
  {
   "cell_type": "code",
   "execution_count": 5,
   "metadata": {},
   "outputs": [
    {
     "data": {
      "text/plain": [
       "id                           int64\n",
       "movie_title                 object\n",
       "movie_facebook_likes         int64\n",
       "color                       object\n",
       "director_name               object\n",
       "prolific_director            int64\n",
       "director_facebook_likes    float64\n",
       "actor_1_name                object\n",
       "actor_2_name                object\n",
       "actor_3_name                object\n",
       "prolific_actor_1            object\n",
       "prolific_actor_2            object\n",
       "prolific_actor_3            object\n",
       "actor_1_facebook_likes       int64\n",
       "actor_2_facebook_likes     float64\n",
       "actor_3_facebook_likes     float64\n",
       "budget                     float64\n",
       "gross                      float64\n",
       "genres                      object\n",
       "num_critic_for_reviews     float64\n",
       "num_voted_users              int64\n",
       "facenumber_in_poster       float64\n",
       "plot_keywords               object\n",
       "movie_imdb_link             object\n",
       "num_user_for_reviews       float64\n",
       "language                    object\n",
       "country                     object\n",
       "content_rating              object\n",
       "title_year                 float64\n",
       "imdb_score                 float64\n",
       "oscar_nom_movie              int64\n",
       "oscar_nom_actor              int64\n",
       "duration                   float64\n",
       "aspect_ratio                object\n",
       "dtype: object"
      ]
     },
     "execution_count": 5,
     "metadata": {},
     "output_type": "execute_result"
    }
   ],
   "source": [
    "movies_df.dtypes"
   ]
  },
  {
   "cell_type": "markdown",
   "metadata": {},
   "source": [
    "Replacing missing string values with NAs"
   ]
  },
  {
   "cell_type": "code",
   "execution_count": 6,
   "metadata": {},
   "outputs": [],
   "source": [
    "movies_df = movies_df.replace(['Missing','Unknown', 'None'], np.nan)"
   ]
  },
  {
   "cell_type": "markdown",
   "metadata": {},
   "source": [
    " "
   ]
  },
  {
   "cell_type": "markdown",
   "metadata": {},
   "source": [
    "Visualizing the Missing values in the data"
   ]
  },
  {
   "cell_type": "code",
   "execution_count": 7,
   "metadata": {},
   "outputs": [],
   "source": [
    "import missingno as mn"
   ]
  },
  {
   "cell_type": "code",
   "execution_count": 8,
   "metadata": {},
   "outputs": [
    {
     "data": {
      "text/plain": [
       "<matplotlib.axes._subplots.AxesSubplot at 0x1a224fb630>"
      ]
     },
     "execution_count": 8,
     "metadata": {},
     "output_type": "execute_result"
    },
    {
     "data": {
      "image/png": "[encoded data removed]",
      "text/plain": [
       "<matplotlib.figure.Figure at 0x10ecfe9b0>"
      ]
     },
     "metadata": {
      "needs_background": "light"
     },
     "output_type": "display_data"
    }
   ],
   "source": [
    "mn.matrix(movies_df)"
   ]
  },
  {
   "cell_type": "markdown",
   "metadata": {},
   "source": [
    "- The above chart displays the missing values with white empty lines in each column\n",
    "- The bar chart on the size shows the number of values present row-wise, in this case the values range from 22 per row to 34 per row"
   ]
  },
  {
   "cell_type": "markdown",
   "metadata": {},
   "source": [
    "Looking at the percentage of missing values per column"
   ]
  },
  {
   "cell_type": "code",
   "execution_count": 9,
   "metadata": {},
   "outputs": [
    {
     "data": {
      "text/html": [
       "<div>\n",
       "<style scoped>\n",
       "    .dataframe tbody tr th:only-of-type {\n",
       "        vertical-align: middle;\n",
       "    }\n",
       "\n",
       "    .dataframe tbody tr th {\n",
       "        vertical-align: top;\n",
       "    }\n",
       "\n",
       "    .dataframe thead th {\n",
       "        text-align: right;\n",
       "    }\n",
       "</style>\n",
       "<table border=\"1\" class=\"dataframe\">\n",
       "  <thead>\n",
       "    <tr style=\"text-align: right;\">\n",
       "      <th></th>\n",
       "      <th>Columns</th>\n",
       "      <th>Missing Value (%)</th>\n",
       "    </tr>\n",
       "  </thead>\n",
       "  <tbody>\n",
       "    <tr>\n",
       "      <th>17</th>\n",
       "      <td>gross</td>\n",
       "      <td>15.48</td>\n",
       "    </tr>\n",
       "    <tr>\n",
       "      <th>16</th>\n",
       "      <td>budget</td>\n",
       "      <td>8.11</td>\n",
       "    </tr>\n",
       "    <tr>\n",
       "      <th>33</th>\n",
       "      <td>aspect_ratio</td>\n",
       "      <td>6.17</td>\n",
       "    </tr>\n",
       "    <tr>\n",
       "      <th>27</th>\n",
       "      <td>content_rating</td>\n",
       "      <td>5.26</td>\n",
       "    </tr>\n",
       "    <tr>\n",
       "      <th>22</th>\n",
       "      <td>plot_keywords</td>\n",
       "      <td>2.78</td>\n",
       "    </tr>\n",
       "    <tr>\n",
       "      <th>19</th>\n",
       "      <td>num_critic_for_reviews</td>\n",
       "      <td>0.78</td>\n",
       "    </tr>\n",
       "    <tr>\n",
       "      <th>9</th>\n",
       "      <td>actor_3_name</td>\n",
       "      <td>0.39</td>\n",
       "    </tr>\n",
       "    <tr>\n",
       "      <th>15</th>\n",
       "      <td>actor_3_facebook_likes</td>\n",
       "      <td>0.39</td>\n",
       "    </tr>\n",
       "    <tr>\n",
       "      <th>3</th>\n",
       "      <td>color</td>\n",
       "      <td>0.32</td>\n",
       "    </tr>\n",
       "    <tr>\n",
       "      <th>24</th>\n",
       "      <td>num_user_for_reviews</td>\n",
       "      <td>0.28</td>\n",
       "    </tr>\n",
       "    <tr>\n",
       "      <th>21</th>\n",
       "      <td>facenumber_in_poster</td>\n",
       "      <td>0.28</td>\n",
       "    </tr>\n",
       "    <tr>\n",
       "      <th>32</th>\n",
       "      <td>duration</td>\n",
       "      <td>0.26</td>\n",
       "    </tr>\n",
       "    <tr>\n",
       "      <th>28</th>\n",
       "      <td>title_year</td>\n",
       "      <td>0.26</td>\n",
       "    </tr>\n",
       "    <tr>\n",
       "      <th>6</th>\n",
       "      <td>director_facebook_likes</td>\n",
       "      <td>0.22</td>\n",
       "    </tr>\n",
       "    <tr>\n",
       "      <th>4</th>\n",
       "      <td>director_name</td>\n",
       "      <td>0.22</td>\n",
       "    </tr>\n",
       "    <tr>\n",
       "      <th>14</th>\n",
       "      <td>actor_2_facebook_likes</td>\n",
       "      <td>0.19</td>\n",
       "    </tr>\n",
       "    <tr>\n",
       "      <th>8</th>\n",
       "      <td>actor_2_name</td>\n",
       "      <td>0.19</td>\n",
       "    </tr>\n",
       "    <tr>\n",
       "      <th>7</th>\n",
       "      <td>actor_1_name</td>\n",
       "      <td>0.13</td>\n",
       "    </tr>\n",
       "    <tr>\n",
       "      <th>25</th>\n",
       "      <td>language</td>\n",
       "      <td>0.11</td>\n",
       "    </tr>\n",
       "    <tr>\n",
       "      <th>1</th>\n",
       "      <td>movie_title</td>\n",
       "      <td>0.02</td>\n",
       "    </tr>\n",
       "  </tbody>\n",
       "</table>\n",
       "</div>"
      ],
      "text/plain": [
       "                    Columns  Missing Value (%)\n",
       "17                    gross              15.48\n",
       "16                   budget               8.11\n",
       "33             aspect_ratio               6.17\n",
       "27           content_rating               5.26\n",
       "22            plot_keywords               2.78\n",
       "19   num_critic_for_reviews               0.78\n",
       "9              actor_3_name               0.39\n",
       "15   actor_3_facebook_likes               0.39\n",
       "3                     color               0.32\n",
       "24     num_user_for_reviews               0.28\n",
       "21     facenumber_in_poster               0.28\n",
       "32                 duration               0.26\n",
       "28               title_year               0.26\n",
       "6   director_facebook_likes               0.22\n",
       "4             director_name               0.22\n",
       "14   actor_2_facebook_likes               0.19\n",
       "8              actor_2_name               0.19\n",
       "7              actor_1_name               0.13\n",
       "25                 language               0.11\n",
       "1               movie_title               0.02"
      ]
     },
     "execution_count": 9,
     "metadata": {},
     "output_type": "execute_result"
    }
   ],
   "source": [
    "mov_missing = pd.DataFrame((movies_df.isna().mean().round(4) * 100)).reset_index()\n",
    "mov_missing.columns = ['Columns', 'Missing Value (%)']\n",
    "mov_missing.loc[mov_missing['Missing Value (%)'] > 0, :].sort_values(by = 'Missing Value (%)', ascending = False)"
   ]
  },
  {
   "cell_type": "markdown",
   "metadata": {},
   "source": [
    "We can see that gross ('Gross Box office') earnings is missing the most amount of data with more than 15% of the entries in the column missing. This is followed by the budget column and aspect_ratio column."
   ]
  },
  {
   "cell_type": "markdown",
   "metadata": {},
   "source": [
    "Creating separate columns for movie genres to identify secondary genres in new columns"
   ]
  },
  {
   "cell_type": "code",
   "execution_count": 10,
   "metadata": {},
   "outputs": [],
   "source": [
    "movies_df['genre_1'], movies_df['genre_2'], movies_df['genre_3'], movies_df['genre_4'], movies_df['genre_5'], movies_df['genre_6'], movies_df['genre_7'], movies_df['genre_8'] = movies_df['genres'].str.split('|', 7).str"
   ]
  },
  {
   "cell_type": "markdown",
   "metadata": {},
   "source": [
    "Creating separate columns for movie plot summary to identify all the plots in the data"
   ]
  },
  {
   "cell_type": "code",
   "execution_count": 11,
   "metadata": {},
   "outputs": [],
   "source": [
    "movies_df['plot_1'], movies_df['plot_2'], movies_df['plot_3'], movies_df['plot_4'], movies_df['plot_5'] = movies_df['plot_keywords'].str.split('|', 4).str"
   ]
  },
  {
   "cell_type": "markdown",
   "metadata": {},
   "source": [
    "Subsetting only the movies in English and made in the USA"
   ]
  },
  {
   "cell_type": "code",
   "execution_count": 12,
   "metadata": {},
   "outputs": [],
   "source": [
    "movies_df = movies_df.loc[(movies_df['language'] == 'English') & (movies_df['country'] == 'USA'),].reset_index(drop = True)"
   ]
  },
  {
   "cell_type": "markdown",
   "metadata": {},
   "source": [
    " "
   ]
  },
  {
   "cell_type": "markdown",
   "metadata": {},
   "source": [
    "Calculating ROI ($) & ROI (%) for comparison across genres"
   ]
  },
  {
   "cell_type": "code",
   "execution_count": 13,
   "metadata": {},
   "outputs": [],
   "source": [
    "movies_df['ROI'] = (movies_df['gross'] - movies_df['budget'])\n",
    "movies_df['ROI_perc'] = (movies_df['gross'] - movies_df['budget'])/movies_df['budget']"
   ]
  },
  {
   "cell_type": "markdown",
   "metadata": {},
   "source": [
    "Creating Genre names as columns for further analysis"
   ]
  },
  {
   "cell_type": "code",
   "execution_count": 14,
   "metadata": {},
   "outputs": [],
   "source": [
    "genre_list = movies_df['genre_1'].unique().tolist()\n",
    "genre_list.extend(movies_df['genre_2'].unique())\n",
    "genre_list.extend(movies_df['genre_3'].unique())\n",
    "genre_list.extend(movies_df['genre_4'].unique())\n",
    "genre_list.extend(movies_df['genre_5'].unique())\n",
    "genre_list.extend(movies_df['genre_6'].unique())\n",
    "genre_list.extend(movies_df['genre_7'].unique())\n",
    "genre_list.extend(movies_df['genre_8'].unique())\n",
    "\n",
    "genre_list = list(set(genre_list))\n",
    "\n",
    "genre_list = pd.array(genre_list)\n",
    "genre_list = genre_list[genre_list != 'nan']"
   ]
  },
  {
   "cell_type": "code",
   "execution_count": 15,
   "metadata": {},
   "outputs": [],
   "source": [
    "for i in range(len(genre_list)):\n",
    "\n",
    "    movies_df[genre_list[i]] = ((movies_df['genre_1'] == genre_list[i]) | (movies_df['genre_2'] == genre_list[i]) | (movies_df['genre_3'] == genre_list[i]) | (movies_df['genre_4'] == genre_list[i]) | (movies_df['genre_5'] == genre_list[i]) | (movies_df['genre_6'] == genre_list[i]) | (movies_df['genre_7'] == genre_list[i]) | (movies_df['genre_8'] == genre_list[i]))\n",
    "    movies_df[genre_list[i]] = movies_df[genre_list[i]].apply(int)"
   ]
  },
  {
   "cell_type": "markdown",
   "metadata": {},
   "source": [
    "Identifying the top mentioned genres in the dataset"
   ]
  },
  {
   "cell_type": "markdown",
   "metadata": {},
   "source": [
    "* We notice that 92% of the movies in the dataset belong to one of the Top-5 genre"
   ]
  },
  {
   "cell_type": "code",
   "execution_count": 16,
   "metadata": {},
   "outputs": [
    {
     "data": {
      "text/plain": [
       "Drama          48.715020\n",
       "Comedy         40.234152\n",
       "Thriller       27.669903\n",
       "Action         22.701314\n",
       "Romance        22.015991\n",
       "Adventure      18.046830\n",
       "Crime          17.618504\n",
       "Fantasy        12.507139\n",
       "Sci-Fi         12.364363\n",
       "Horror         11.479155\n",
       "Family         11.279269\n",
       "Mystery         9.594517\n",
       "Biography       4.882924\n",
       "Animation       4.768704\n",
       "Music           4.711593\n",
       "Sport           4.026271\n",
       "War             2.912621\n",
       "History         2.884066\n",
       "Musical         2.884066\n",
       "Documentary     2.341519\n",
       "Western         1.941748\n",
       "Film-Noir       0.171331\n",
       "News            0.057110\n",
       "dtype: float64"
      ]
     },
     "execution_count": 16,
     "metadata": {},
     "output_type": "execute_result"
    }
   ],
   "source": [
    "(movies_df.iloc[:, -23:].sum()/len(movies_df)*100).sort_values(ascending = False)"
   ]
  },
  {
   "cell_type": "markdown",
   "metadata": {},
   "source": [
    "### Using the genre/actor data to create a dataset for a wordcloud"
   ]
  },
  {
   "cell_type": "code",
   "execution_count": 17,
   "metadata": {},
   "outputs": [],
   "source": [
    "gencols = movies_df.columns[movies_df.columns.to_series().str.contains('genre_')]\n",
    "\n",
    "for i in gencols:\n",
    "        globals()[(i + '_tbl')] = movies_df.pivot_table(index = [i, \n",
    "                                            'title_year', \n",
    "                                            'id', \n",
    "                                            'movie_title',\n",
    "                                            'country',\n",
    "                                            'language'], \n",
    "                                   values = ['gross', \n",
    "                                             'budget', \n",
    "                                             'ROI',\n",
    "                                             'imdb_score',\n",
    "                                             'movie_facebook_likes'], \n",
    "                                   aggfunc= np.sum).reset_index()"
   ]
  },
  {
   "cell_type": "code",
   "execution_count": 18,
   "metadata": {},
   "outputs": [],
   "source": [
    "genre_1_tbl.columns = ['genre', 'title_year', 'id', 'movie_title', 'country', 'language','ROI', 'budget', 'gross', 'imdb_score', 'movie_facebook_likes']\n",
    "genre_2_tbl.columns = ['genre', 'title_year', 'id', 'movie_title', 'country', 'language','ROI', 'budget', 'gross', 'imdb_score', 'movie_facebook_likes']\n",
    "genre_3_tbl.columns = ['genre', 'title_year', 'id', 'movie_title', 'country', 'language','ROI', 'budget', 'gross', 'imdb_score', 'movie_facebook_likes']\n",
    "genre_4_tbl.columns = ['genre', 'title_year', 'id', 'movie_title', 'country', 'language','ROI', 'budget', 'gross', 'imdb_score', 'movie_facebook_likes']\n",
    "genre_5_tbl.columns = ['genre', 'title_year', 'id', 'movie_title', 'country', 'language','ROI', 'budget', 'gross', 'imdb_score', 'movie_facebook_likes']\n",
    "genre_6_tbl.columns = ['genre', 'title_year', 'id', 'movie_title', 'country', 'language','ROI', 'budget', 'gross', 'imdb_score', 'movie_facebook_likes']\n",
    "genre_7_tbl.columns = ['genre', 'title_year', 'id', 'movie_title', 'country', 'language','ROI', 'budget', 'gross', 'imdb_score', 'movie_facebook_likes']\n",
    "genre_8_tbl.columns = ['genre', 'title_year', 'id', 'movie_title', 'country', 'language','ROI', 'budget', 'gross', 'imdb_score', 'movie_facebook_likes']"
   ]
  },
  {
   "cell_type": "code",
   "execution_count": 19,
   "metadata": {},
   "outputs": [],
   "source": [
    "genre_tbl = genre_1_tbl.append(genre_2_tbl).append(genre_3_tbl).append(genre_4_tbl).append(genre_5_tbl).append(genre_6_tbl).append(genre_7_tbl).append(genre_8_tbl)\n",
    "genre_tbl['title_year'] = genre_tbl['title_year'].apply(int)"
   ]
  },
  {
   "cell_type": "markdown",
   "metadata": {},
   "source": [
    "File to be exported for wordcloud"
   ]
  },
  {
   "cell_type": "code",
   "execution_count": 20,
   "metadata": {},
   "outputs": [],
   "source": [
    "#genre_tbl.to_csv('genre_table.csv', encoding = 'utf-8')"
   ]
  },
  {
   "cell_type": "markdown",
   "metadata": {},
   "source": [
    " "
   ]
  },
  {
   "cell_type": "markdown",
   "metadata": {},
   "source": [
    "Creating the dataset for actors for Wordcloud generation"
   ]
  },
  {
   "cell_type": "code",
   "execution_count": 21,
   "metadata": {},
   "outputs": [],
   "source": [
    "actcols = ['actor_1_name', 'actor_2_name', 'actor_3_name']\n",
    "\n",
    "for i in actcols:\n",
    "        globals()[(i + '_tbl')] = movies_df.pivot_table(index = [i, \n",
    "                                            'title_year', \n",
    "                                            'id', \n",
    "                                            'movie_title',\n",
    "                                            'country',\n",
    "                                            'language',\n",
    "                                            'director_name'],\n",
    "                                   values = ['gross', \n",
    "                                             'budget', \n",
    "                                             'ROI'], \n",
    "                                   aggfunc= np.sum).reset_index()"
   ]
  },
  {
   "cell_type": "code",
   "execution_count": 22,
   "metadata": {},
   "outputs": [],
   "source": [
    "# Cleaning up the column names\n",
    "actor_1_name_tbl.columns = ['actor_name', \n",
    "                            'title_year', \n",
    "                            'id', \n",
    "                            'movie_title', \n",
    "                            'country',\n",
    "                            'language',\n",
    "                            'director_name',\n",
    "                            'ROI', \n",
    "                            'budget', \n",
    "                            'gross']\n",
    "actor_2_name_tbl.columns = ['actor_name', \n",
    "                            'title_year', \n",
    "                            'id', \n",
    "                            'movie_title',\n",
    "                            'country',\n",
    "                            'language',\n",
    "                            'director_name',\n",
    "                            'ROI', \n",
    "                            'budget', \n",
    "                            'gross']\n",
    "actor_3_name_tbl.columns = ['actor_name', \n",
    "                            'title_year', \n",
    "                            'id', \n",
    "                            'movie_title',\n",
    "                            'country',\n",
    "                            'language',\n",
    "                            'director_name',\n",
    "                            'ROI', \n",
    "                            'budget', \n",
    "                            'gross']\n",
    "\n",
    "actor_tbl = actor_1_name_tbl.append(actor_2_name_tbl).append(actor_3_name_tbl)\n",
    "actor_tbl['title_year'] = actor_tbl['title_year'].apply(int)"
   ]
  },
  {
   "cell_type": "code",
   "execution_count": 23,
   "metadata": {},
   "outputs": [],
   "source": [
    "actor_tbl['decade'] = ((actor_tbl['title_year']/10).apply(np.floor)*10).apply(int)"
   ]
  },
  {
   "cell_type": "code",
   "execution_count": 24,
   "metadata": {},
   "outputs": [],
   "source": [
    "actor_tbl['ROI_perc'] = actor_tbl['ROI']/actor_tbl['budget']"
   ]
  },
  {
   "cell_type": "markdown",
   "metadata": {},
   "source": [
    " "
   ]
  },
  {
   "cell_type": "markdown",
   "metadata": {},
   "source": [
    "Removing actors with less than 3 movies in the decade"
   ]
  },
  {
   "cell_type": "code",
   "execution_count": 25,
   "metadata": {},
   "outputs": [],
   "source": [
    "actors_movies = actor_tbl.groupby(['decade','actor_name'])['id'].count().reset_index()"
   ]
  },
  {
   "cell_type": "code",
   "execution_count": 26,
   "metadata": {},
   "outputs": [],
   "source": [
    "actor_tbl = actor_tbl.merge(actors_movies, on = ['decade', 'actor_name'], how = 'left')\n",
    "actor_tbl = actor_tbl.loc[actor_tbl['id_y'] >= 3, :]"
   ]
  },
  {
   "cell_type": "code",
   "execution_count": 27,
   "metadata": {},
   "outputs": [],
   "source": [
    "actor_tbl = actor_tbl.drop('id_y', axis = 1)"
   ]
  },
  {
   "cell_type": "code",
   "execution_count": 28,
   "metadata": {},
   "outputs": [],
   "source": [
    "actor_tbl.columns = ['actor_name', 'title_year', 'id', 'movie_title', 'country',\n",
    "       'language', 'director_name', 'ROI', 'budget', 'gross', 'decade',\n",
    "       'ROI_perc']"
   ]
  },
  {
   "cell_type": "code",
   "execution_count": 29,
   "metadata": {},
   "outputs": [],
   "source": [
    "numtop10actors = actor_tbl.groupby(['decade','actor_name'])['id'].count().reset_index()"
   ]
  },
  {
   "cell_type": "code",
   "execution_count": 30,
   "metadata": {},
   "outputs": [],
   "source": [
    "numtop10actors = numtop10actors.sort_values(['decade', 'id'], ascending= False)\n",
    "numtop10actors = numtop10actors.groupby('decade').head(10)"
   ]
  },
  {
   "cell_type": "markdown",
   "metadata": {},
   "source": [
    "Merge with original dataset to identify the actors with most movies"
   ]
  },
  {
   "cell_type": "code",
   "execution_count": 31,
   "metadata": {},
   "outputs": [],
   "source": [
    "actor_tbl = actor_tbl.merge(numtop10actors, on = ['decade', 'actor_name'], how = 'left')\n",
    "actor_tbl.loc[~actor_tbl['id_y'].isnull(),'id_y'] = 1\n",
    "actor_tbl['id_y'] = actor_tbl['id_y'].fillna(0)"
   ]
  },
  {
   "cell_type": "code",
   "execution_count": 32,
   "metadata": {},
   "outputs": [],
   "source": [
    "actor_tbl.columns = ['actor_name', 'title_year', 'id', 'movie_title', 'country',\n",
    "       'language', 'director_name', 'ROI', 'budget', 'gross', 'decade',\n",
    "       'ROI_perc', 'most_movies']"
   ]
  },
  {
   "cell_type": "code",
   "execution_count": 33,
   "metadata": {},
   "outputs": [],
   "source": [
    "roitop10actors = actor_tbl.groupby(['decade','actor_name'])['ROI'].median().reset_index() #top actors by ROI\n",
    "grosstop10actors = actor_tbl.groupby(['decade','actor_name'])['gross'].median().reset_index() # top actors by Box office earnings\n",
    "roiperctop10actors = actor_tbl.groupby(['decade','actor_name'])['ROI_perc'].median().reset_index() # top actors by ROI (%)"
   ]
  },
  {
   "cell_type": "code",
   "execution_count": 34,
   "metadata": {},
   "outputs": [],
   "source": [
    "# filtering the top 10 for each measure\n",
    "roitop10actors = roitop10actors.sort_values(['decade', 'ROI'], ascending = False)\n",
    "roitop10actors = roitop10actors.groupby('decade').head(10)\n",
    "\n",
    "grosstop10actors = grosstop10actors.sort_values(['decade', 'gross'], ascending = False)\n",
    "grosstop10actors = grosstop10actors.groupby('decade').head(10)\n",
    "\n",
    "roiperctop10actors = roiperctop10actors.sort_values(['decade', 'ROI_perc'], ascending = False)\n",
    "roiperctop10actors = roiperctop10actors.groupby('decade').head(10)"
   ]
  },
  {
   "cell_type": "markdown",
   "metadata": {},
   "source": [
    "Merge with original dataset to identify actors with highest ROI ($)"
   ]
  },
  {
   "cell_type": "code",
   "execution_count": 35,
   "metadata": {},
   "outputs": [],
   "source": [
    "actor_tbl = actor_tbl.merge(roitop10actors, on = ['decade', 'actor_name'], how = 'left')\n",
    "actor_tbl.loc[~actor_tbl['ROI_y'].isnull(),'ROI_y'] = 1\n",
    "actor_tbl['ROI_y'] = actor_tbl['ROI_y'].fillna(0)"
   ]
  },
  {
   "cell_type": "code",
   "execution_count": 36,
   "metadata": {},
   "outputs": [],
   "source": [
    "actor_tbl.columns = ['actor_name', 'title_year', 'id', 'movie_title', 'country',\n",
    "       'language', 'director_name', 'ROI', 'budget', 'gross', 'decade',\n",
    "       'ROI_perc', 'most_movies', 'highest_ROI']"
   ]
  },
  {
   "cell_type": "markdown",
   "metadata": {},
   "source": [
    "Merging with original dataset to identify the actors with top grossing movies"
   ]
  },
  {
   "cell_type": "code",
   "execution_count": 37,
   "metadata": {},
   "outputs": [],
   "source": [
    "actor_tbl = actor_tbl.merge(grosstop10actors, on = ['decade', 'actor_name'], how = 'left')\n",
    "actor_tbl.loc[~actor_tbl['gross_y'].isnull(),'gross_y'] = 1\n",
    "actor_tbl['gross_y'] = actor_tbl['gross_y'].fillna(0)"
   ]
  },
  {
   "cell_type": "code",
   "execution_count": 38,
   "metadata": {},
   "outputs": [],
   "source": [
    "actor_tbl.columns = ['actor_name', 'title_year', 'id', 'movie_title', 'country',\n",
    "       'language', 'director_name', 'ROI', 'budget', 'gross', 'decade',\n",
    "       'ROI_perc', 'most_movies', 'highest_ROI', 'highest_gross']"
   ]
  },
  {
   "cell_type": "markdown",
   "metadata": {},
   "source": [
    "Merging with original dataset to identify the actors with highest ROI (%)"
   ]
  },
  {
   "cell_type": "code",
   "execution_count": 39,
   "metadata": {},
   "outputs": [],
   "source": [
    "actor_tbl = actor_tbl.merge(roiperctop10actors, on = ['decade', 'actor_name'], how = 'left')\n",
    "actor_tbl.loc[~actor_tbl['ROI_perc_y'].isnull(),'ROI_perc_y'] = 1\n",
    "actor_tbl['ROI_perc_y'] = actor_tbl['ROI_perc_y'].fillna(0)"
   ]
  },
  {
   "cell_type": "code",
   "execution_count": 40,
   "metadata": {},
   "outputs": [],
   "source": [
    "actor_tbl.columns = ['actor_name', 'title_year', 'id', 'movie_title', 'country',\n",
    "       'language', 'director_name', 'ROI', 'budget', 'gross', 'decade',\n",
    "       'ROI_perc', 'most_movies', 'highest_ROI', 'highest_gross', 'highest_ROIperc']"
   ]
  },
  {
   "cell_type": "markdown",
   "metadata": {},
   "source": [
    "File to be exported for the wordcloud"
   ]
  },
  {
   "cell_type": "code",
   "execution_count": 41,
   "metadata": {},
   "outputs": [],
   "source": [
    "#actor_tbl.to_csv('actor_table.csv', encoding = 'utf-8')"
   ]
  },
  {
   "cell_type": "markdown",
   "metadata": {},
   "source": [
    " "
   ]
  },
  {
   "cell_type": "markdown",
   "metadata": {},
   "source": [
    "Similar calculation for directors"
   ]
  },
  {
   "cell_type": "code",
   "execution_count": 42,
   "metadata": {},
   "outputs": [],
   "source": [
    "movies_df['decade'] = ((movies_df['title_year'].fillna(0)/10).apply(np.floor)*10).apply(int)"
   ]
  },
  {
   "cell_type": "code",
   "execution_count": 43,
   "metadata": {},
   "outputs": [
    {
     "data": {
      "text/plain": [
       "Index(['id', 'movie_title', 'movie_facebook_likes', 'color', 'director_name',\n",
       "       'prolific_director', 'director_facebook_likes', 'actor_1_name',\n",
       "       'actor_2_name', 'actor_3_name', 'prolific_actor_1', 'prolific_actor_2',\n",
       "       'prolific_actor_3', 'actor_1_facebook_likes', 'actor_2_facebook_likes',\n",
       "       'actor_3_facebook_likes', 'budget', 'gross', 'genres',\n",
       "       'num_critic_for_reviews', 'num_voted_users', 'facenumber_in_poster',\n",
       "       'plot_keywords', 'movie_imdb_link', 'num_user_for_reviews', 'language',\n",
       "       'country', 'content_rating', 'title_year', 'imdb_score',\n",
       "       'oscar_nom_movie', 'oscar_nom_actor', 'duration', 'aspect_ratio',\n",
       "       'genre_1', 'genre_2', 'genre_3', 'genre_4', 'genre_5', 'genre_6',\n",
       "       'genre_7', 'genre_8', 'plot_1', 'plot_2', 'plot_3', 'plot_4', 'plot_5',\n",
       "       'ROI', 'ROI_perc', 'Fantasy', 'Musical', 'Documentary', 'Sport',\n",
       "       'Western', 'Music', 'News', 'Horror', 'Crime', 'War', 'Film-Noir',\n",
       "       'Action', 'Biography', 'Mystery', 'Thriller', 'Drama', 'Animation',\n",
       "       'Comedy', 'Romance', 'Family', 'History', 'Sci-Fi', 'Adventure',\n",
       "       'decade'],\n",
       "      dtype='object')"
      ]
     },
     "execution_count": 43,
     "metadata": {},
     "output_type": "execute_result"
    }
   ],
   "source": [
    "movies_df.columns"
   ]
  },
  {
   "cell_type": "code",
   "execution_count": 44,
   "metadata": {},
   "outputs": [],
   "source": [
    "roitop10directors = movies_df.groupby(['decade','director_name'])['ROI'].median().reset_index().sort_values(['decade', 'ROI'], ascending = False).groupby('decade').head(10) #top actors by ROI\n",
    "grosstop10directors = movies_df.groupby(['decade','director_name'])['gross'].median().reset_index().sort_values(['decade', 'gross'], ascending = False).groupby('decade').head(10) #top directors by gross box office earnings \n",
    "roiperctop10directors = movies_df.groupby(['decade','director_name'])['ROI_perc'].median().reset_index().sort_values(['decade', 'ROI_perc'], ascending = False).groupby('decade').head(10) #top actors by ROI (%)"
   ]
  },
  {
   "cell_type": "markdown",
   "metadata": {},
   "source": [
    "## Step 2: Exploratory Data Analysis"
   ]
  },
  {
   "cell_type": "markdown",
   "metadata": {},
   "source": [
    "### Correlation among variables in the data"
   ]
  },
  {
   "cell_type": "code",
   "execution_count": 45,
   "metadata": {},
   "outputs": [],
   "source": [
    "movies_numdf = movies_df.select_dtypes(include=np.number)\n",
    "movies_numdf = movies_numdf.drop('id', axis = 1)"
   ]
  },
  {
   "cell_type": "code",
   "execution_count": 46,
   "metadata": {},
   "outputs": [],
   "source": [
    "from pylab import rcParams\n",
    "rcParams['figure.figsize'] = 18, 9"
   ]
  },
  {
   "cell_type": "code",
   "execution_count": 47,
   "metadata": {},
   "outputs": [
    {
     "data": {
      "image/png": "[encoded data removed]",
      "text/plain": [
       "<matplotlib.figure.Figure at 0x1a21fb51d0>"
      ]
     },
     "metadata": {
      "needs_background": "light"
     },
     "output_type": "display_data"
    }
   ],
   "source": [
    "import seaborn as sns\n",
    "corr = movies_numdf.corr()\n",
    "ax = sns.heatmap(\n",
    "        corr,\n",
    "        #size(c1, c2) ~ abs(corr(c1, c2)),\n",
    "        vmin=-1, vmax=1, center=0,\n",
    "        cmap=sns.diverging_palette(20, 220, n=200),\n",
    "        square=True\n",
    ")"
   ]
  },
  {
   "cell_type": "markdown",
   "metadata": {},
   "source": [
    " "
   ]
  },
  {
   "cell_type": "markdown",
   "metadata": {},
   "source": [
    "Let us transform the dataset for analysis:\n",
    "* Remove some of the genres not important in the analysis\n",
    "* Identifying the Top 10 actors by ROI($), ROI(%), Gross earnings\n",
    "* Scaling the variables\n",
    "* Remove/Impute rows with missing values"
   ]
  },
  {
   "cell_type": "code",
   "execution_count": 48,
   "metadata": {},
   "outputs": [],
   "source": [
    "movies_df = movies_df.drop(['News','Film-Noir', 'Documentary','Musical','History','War','Sport', 'Music'], axis = 1)"
   ]
  },
  {
   "cell_type": "markdown",
   "metadata": {},
   "source": [
    " "
   ]
  },
  {
   "cell_type": "markdown",
   "metadata": {},
   "source": [
    "Creating a column to identify whether any of the three actors in the movie are one of the Top 10 actors based on:\n",
    "1. ROI($)\n",
    "2. ROI (%) \n",
    "3. Gross box office earnings"
   ]
  },
  {
   "cell_type": "code",
   "execution_count": 49,
   "metadata": {},
   "outputs": [],
   "source": [
    "# Creating 3 columns\n",
    "movies_df['Actor1_ROITop10'] = 0\n",
    "movies_df['Actor2_ROITop10'] = 0\n",
    "movies_df['Actor3_ROITop10'] = 0\n",
    "\n",
    "# Identifying whether actors exist in the top 10 list\n",
    "movies_df.loc[movies_df['actor_1_name'].isin(roitop10actors['actor_name']), 'Actor1_ROITop10'] = 1\n",
    "movies_df.loc[movies_df['actor_2_name'].isin(roitop10actors['actor_name']), 'Actor2_ROITop10'] = 1\n",
    "movies_df.loc[movies_df['actor_3_name'].isin(roitop10actors['actor_name']), 'Actor3_ROITop10'] = 1"
   ]
  },
  {
   "cell_type": "code",
   "execution_count": 50,
   "metadata": {},
   "outputs": [],
   "source": [
    "# Creating 3 columns\n",
    "movies_df['Actor1_ROIpercTop10'] = 0\n",
    "movies_df['Actor2_ROIpercTop10'] = 0\n",
    "movies_df['Actor3_ROIpercTop10'] = 0\n",
    "\n",
    "# Identifying whether actors exist in the top 10 list\n",
    "movies_df.loc[movies_df['actor_1_name'].isin(roiperctop10actors['actor_name']), 'Actor1_ROIpercTop10'] = 1\n",
    "movies_df.loc[movies_df['actor_2_name'].isin(roiperctop10actors['actor_name']), 'Actor2_ROIpercTop10'] = 1\n",
    "movies_df.loc[movies_df['actor_3_name'].isin(roiperctop10actors['actor_name']), 'Actor3_ROIpercTop10'] = 1"
   ]
  },
  {
   "cell_type": "code",
   "execution_count": 51,
   "metadata": {},
   "outputs": [],
   "source": [
    "# Creating 3 columns\n",
    "movies_df['Actor1_grossTop10'] = 0\n",
    "movies_df['Actor2_grossTop10'] = 0\n",
    "movies_df['Actor3_grossTop10'] = 0\n",
    "\n",
    "# Identifying whether actors exist in the top 10 list\n",
    "movies_df.loc[movies_df['actor_1_name'].isin(grosstop10actors['actor_name']), 'Actor1_grossTop10'] = 1\n",
    "movies_df.loc[movies_df['actor_2_name'].isin(grosstop10actors['actor_name']), 'Actor2_grossTop10'] = 1\n",
    "movies_df.loc[movies_df['actor_3_name'].isin(grosstop10actors['actor_name']), 'Actor3_grossTop10'] = 1"
   ]
  },
  {
   "cell_type": "markdown",
   "metadata": {},
   "source": [
    "Creating columns to identify if the director is a Top 10 director in any of the decades"
   ]
  },
  {
   "cell_type": "code",
   "execution_count": 52,
   "metadata": {},
   "outputs": [],
   "source": [
    "movies_df['Director_ROITop10'] = 0\n",
    "movies_df.loc[movies_df['director_name'].isin(roitop10directors['director_name']), 'Director_ROITop10'] = 1\n",
    "\n",
    "movies_df['Director_ROIpercTop10'] = 0\n",
    "movies_df.loc[movies_df['director_name'].isin(roiperctop10directors['director_name']), 'Director_ROIpercTop10'] = 1\n",
    "\n",
    "movies_df['Director_grossTop10'] = 0\n",
    "movies_df.loc[movies_df['director_name'].isin(grosstop10directors['director_name']), 'Director_grossTop10'] = 1"
   ]
  },
  {
   "cell_type": "markdown",
   "metadata": {},
   "source": [
    "One hot encoding all categorical variables for use in the analysis"
   ]
  },
  {
   "cell_type": "code",
   "execution_count": 53,
   "metadata": {},
   "outputs": [],
   "source": [
    "movies_df = pd.get_dummies(movies_df, columns=[\"color\", \"content_rating\"])\n"
   ]
  },
  {
   "cell_type": "code",
   "execution_count": 54,
   "metadata": {},
   "outputs": [],
   "source": [
    "# dropping these variables to ensure there is no perfect multicollinearity\n",
    "movies_df = movies_df.drop(['color_Color', 'content_rating_Approved'], axis = 1)"
   ]
  },
  {
   "cell_type": "markdown",
   "metadata": {},
   "source": [
    "### Updated Correlation plot with the additional information"
   ]
  },
  {
   "cell_type": "code",
   "execution_count": 55,
   "metadata": {},
   "outputs": [
    {
     "data": {
      "image/png": "[encoded data removed]",
      "text/plain": [
       "<matplotlib.figure.Figure at 0x1a21f9df60>"
      ]
     },
     "metadata": {
      "needs_background": "light"
     },
     "output_type": "display_data"
    }
   ],
   "source": [
    "movies_numdf = movies_df.select_dtypes(include=np.number)\n",
    "#movies_numdf = movies_numdf.drop('id', axis = 1)\n",
    "\n",
    "import seaborn as sns\n",
    "corr = movies_numdf.drop('id', axis = 1).corr()\n",
    "ax = sns.heatmap(\n",
    "        corr,\n",
    "        #size(c1, c2) ~ abs(corr(c1, c2)),\n",
    "        vmin=-1, vmax=1, center=0,\n",
    "        cmap=sns.diverging_palette(20, 220, n=200),\n",
    "        square=True\n",
    ")"
   ]
  },
  {
   "cell_type": "markdown",
   "metadata": {},
   "source": [
    "We see a lot more correlation in the data but the ROI_perc column is still not significantly correlated with any variable"
   ]
  },
  {
   "cell_type": "markdown",
   "metadata": {},
   "source": [
    "### Imputing missing values"
   ]
  },
  {
   "cell_type": "code",
   "execution_count": 56,
   "metadata": {},
   "outputs": [],
   "source": [
    "from sklearn.impute import SimpleImputer\n",
    "\n",
    "fill_NaN = SimpleImputer(missing_values=np.nan, strategy='median')\n",
    "imputed_DF = pd.DataFrame(fill_NaN.fit_transform(movies_numdf)) # imputing missing values in the data frame with mean values\n",
    "imputed_DF.columns = movies_numdf.columns\n",
    "imputed_DF.index = movies_numdf.index"
   ]
  },
  {
   "cell_type": "markdown",
   "metadata": {},
   "source": [
    "### Clustering the data to understand if there are any patterns that emerge"
   ]
  },
  {
   "cell_type": "markdown",
   "metadata": {},
   "source": [
    "Let us try and understand if there are any patterns that emerge in the data when clustered together"
   ]
  },
  {
   "cell_type": "code",
   "execution_count": 57,
   "metadata": {},
   "outputs": [],
   "source": [
    "from sklearn.cluster import KMeans\n",
    "kmeans = KMeans(n_clusters = 9)\n",
    "\n",
    "kmeans.fit(imputed_DF)\n",
    "\n",
    "y_km = kmeans.fit_predict(imputed_DF.drop('id', axis = 1))\n",
    "\n",
    "imputed_DF['clusters_kmeans'] = y_km"
   ]
  },
  {
   "cell_type": "markdown",
   "metadata": {},
   "source": [
    "Let us look at mean measures for each cluster"
   ]
  },
  {
   "cell_type": "code",
   "execution_count": 58,
   "metadata": {},
   "outputs": [
    {
     "data": {
      "text/html": [
       "<div>\n",
       "<style scoped>\n",
       "    .dataframe tbody tr th:only-of-type {\n",
       "        vertical-align: middle;\n",
       "    }\n",
       "\n",
       "    .dataframe tbody tr th {\n",
       "        vertical-align: top;\n",
       "    }\n",
       "\n",
       "    .dataframe thead tr th {\n",
       "        text-align: left;\n",
       "    }\n",
       "</style>\n",
       "<table border=\"1\" class=\"dataframe\">\n",
       "  <thead>\n",
       "    <tr>\n",
       "      <th></th>\n",
       "      <th>clusters_kmeans</th>\n",
       "      <th colspan=\"9\" halign=\"left\">mean</th>\n",
       "      <th>...</th>\n",
       "      <th colspan=\"10\" halign=\"left\">std</th>\n",
       "    </tr>\n",
       "    <tr>\n",
       "      <th></th>\n",
       "      <th></th>\n",
       "      <th>Action</th>\n",
       "      <th>Actor1_ROITop10</th>\n",
       "      <th>Adventure</th>\n",
       "      <th>Comedy</th>\n",
       "      <th>Director_ROITop10</th>\n",
       "      <th>Drama</th>\n",
       "      <th>ROI</th>\n",
       "      <th>ROI_perc</th>\n",
       "      <th>Romance</th>\n",
       "      <th>...</th>\n",
       "      <th>Drama</th>\n",
       "      <th>ROI</th>\n",
       "      <th>ROI_perc</th>\n",
       "      <th>Romance</th>\n",
       "      <th>Thriller</th>\n",
       "      <th>budget</th>\n",
       "      <th>duration</th>\n",
       "      <th>gross</th>\n",
       "      <th>movie_facebook_likes</th>\n",
       "      <th>oscar_nom_movie</th>\n",
       "    </tr>\n",
       "  </thead>\n",
       "  <tbody>\n",
       "    <tr>\n",
       "      <th>0</th>\n",
       "      <td>0</td>\n",
       "      <td>0.155515</td>\n",
       "      <td>0.058770</td>\n",
       "      <td>0.092224</td>\n",
       "      <td>0.358951</td>\n",
       "      <td>0.068716</td>\n",
       "      <td>0.487342</td>\n",
       "      <td>1.190672e+07</td>\n",
       "      <td>2.375753</td>\n",
       "      <td>0.217902</td>\n",
       "      <td>...</td>\n",
       "      <td>0.500066</td>\n",
       "      <td>1.211680e+07</td>\n",
       "      <td>15.019110</td>\n",
       "      <td>0.413007</td>\n",
       "      <td>0.455320</td>\n",
       "      <td>1.180441e+07</td>\n",
       "      <td>19.457269</td>\n",
       "      <td>9.943548e+06</td>\n",
       "      <td>6.453845e+06</td>\n",
       "      <td>0.492830</td>\n",
       "    </tr>\n",
       "    <tr>\n",
       "      <th>1</th>\n",
       "      <td>1</td>\n",
       "      <td>0.530612</td>\n",
       "      <td>0.367347</td>\n",
       "      <td>0.775510</td>\n",
       "      <td>0.285714</td>\n",
       "      <td>0.653061</td>\n",
       "      <td>0.244898</td>\n",
       "      <td>2.448820e+08</td>\n",
       "      <td>5.387488</td>\n",
       "      <td>0.163265</td>\n",
       "      <td>...</td>\n",
       "      <td>0.434483</td>\n",
       "      <td>6.753789e+07</td>\n",
       "      <td>8.949764</td>\n",
       "      <td>0.373438</td>\n",
       "      <td>0.391230</td>\n",
       "      <td>6.902200e+07</td>\n",
       "      <td>25.685914</td>\n",
       "      <td>5.756818e+07</td>\n",
       "      <td>1.542527e+07</td>\n",
       "      <td>0.693752</td>\n",
       "    </tr>\n",
       "    <tr>\n",
       "      <th>2</th>\n",
       "      <td>2</td>\n",
       "      <td>0.242222</td>\n",
       "      <td>0.144444</td>\n",
       "      <td>0.195556</td>\n",
       "      <td>0.475556</td>\n",
       "      <td>0.093333</td>\n",
       "      <td>0.422222</td>\n",
       "      <td>4.947552e+07</td>\n",
       "      <td>18.590121</td>\n",
       "      <td>0.235556</td>\n",
       "      <td>...</td>\n",
       "      <td>0.494463</td>\n",
       "      <td>2.359217e+07</td>\n",
       "      <td>339.009083</td>\n",
       "      <td>0.424818</td>\n",
       "      <td>0.460684</td>\n",
       "      <td>2.556230e+07</td>\n",
       "      <td>22.496251</td>\n",
       "      <td>2.190523e+07</td>\n",
       "      <td>1.294064e+07</td>\n",
       "      <td>0.591221</td>\n",
       "    </tr>\n",
       "    <tr>\n",
       "      <th>3</th>\n",
       "      <td>3</td>\n",
       "      <td>0.436451</td>\n",
       "      <td>0.107914</td>\n",
       "      <td>0.290168</td>\n",
       "      <td>0.374101</td>\n",
       "      <td>0.071942</td>\n",
       "      <td>0.446043</td>\n",
       "      <td>-2.332364e+07</td>\n",
       "      <td>-0.362153</td>\n",
       "      <td>0.179856</td>\n",
       "      <td>...</td>\n",
       "      <td>0.497677</td>\n",
       "      <td>1.939305e+07</td>\n",
       "      <td>0.279723</td>\n",
       "      <td>0.384529</td>\n",
       "      <td>0.492437</td>\n",
       "      <td>1.717479e+07</td>\n",
       "      <td>25.840115</td>\n",
       "      <td>1.953796e+07</td>\n",
       "      <td>1.667763e+07</td>\n",
       "      <td>0.255812</td>\n",
       "    </tr>\n",
       "    <tr>\n",
       "      <th>4</th>\n",
       "      <td>4</td>\n",
       "      <td>0.635135</td>\n",
       "      <td>0.162162</td>\n",
       "      <td>0.878378</td>\n",
       "      <td>0.324324</td>\n",
       "      <td>0.189189</td>\n",
       "      <td>0.121622</td>\n",
       "      <td>5.975319e+07</td>\n",
       "      <td>0.392425</td>\n",
       "      <td>0.040541</td>\n",
       "      <td>...</td>\n",
       "      <td>0.329079</td>\n",
       "      <td>3.793854e+07</td>\n",
       "      <td>0.267166</td>\n",
       "      <td>0.198569</td>\n",
       "      <td>0.414473</td>\n",
       "      <td>3.809848e+07</td>\n",
       "      <td>26.319415</td>\n",
       "      <td>4.558406e+07</td>\n",
       "      <td>1.727408e+07</td>\n",
       "      <td>0.477560</td>\n",
       "    </tr>\n",
       "    <tr>\n",
       "      <th>5</th>\n",
       "      <td>5</td>\n",
       "      <td>0.290541</td>\n",
       "      <td>0.236486</td>\n",
       "      <td>0.290541</td>\n",
       "      <td>0.513514</td>\n",
       "      <td>0.297297</td>\n",
       "      <td>0.398649</td>\n",
       "      <td>1.279108e+08</td>\n",
       "      <td>23.844703</td>\n",
       "      <td>0.236486</td>\n",
       "      <td>...</td>\n",
       "      <td>0.491283</td>\n",
       "      <td>3.530459e+07</td>\n",
       "      <td>192.674541</td>\n",
       "      <td>0.426367</td>\n",
       "      <td>0.375953</td>\n",
       "      <td>3.048219e+07</td>\n",
       "      <td>25.047345</td>\n",
       "      <td>3.440246e+07</td>\n",
       "      <td>1.391243e+07</td>\n",
       "      <td>1.025417</td>\n",
       "    </tr>\n",
       "    <tr>\n",
       "      <th>6</th>\n",
       "      <td>6</td>\n",
       "      <td>0.111504</td>\n",
       "      <td>0.047788</td>\n",
       "      <td>0.076106</td>\n",
       "      <td>0.438053</td>\n",
       "      <td>0.019469</td>\n",
       "      <td>0.601770</td>\n",
       "      <td>-4.551230e+06</td>\n",
       "      <td>3.532571</td>\n",
       "      <td>0.254867</td>\n",
       "      <td>...</td>\n",
       "      <td>0.489750</td>\n",
       "      <td>9.150692e+06</td>\n",
       "      <td>81.997637</td>\n",
       "      <td>0.435980</td>\n",
       "      <td>0.418204</td>\n",
       "      <td>1.069286e+07</td>\n",
       "      <td>16.045267</td>\n",
       "      <td>6.726177e+06</td>\n",
       "      <td>7.639955e+06</td>\n",
       "      <td>0.242585</td>\n",
       "    </tr>\n",
       "    <tr>\n",
       "      <th>7</th>\n",
       "      <td>7</td>\n",
       "      <td>0.800000</td>\n",
       "      <td>0.200000</td>\n",
       "      <td>0.600000</td>\n",
       "      <td>0.000000</td>\n",
       "      <td>0.800000</td>\n",
       "      <td>0.400000</td>\n",
       "      <td>4.471902e+08</td>\n",
       "      <td>2.313195</td>\n",
       "      <td>0.200000</td>\n",
       "      <td>...</td>\n",
       "      <td>0.547723</td>\n",
       "      <td>7.190921e+07</td>\n",
       "      <td>0.611869</td>\n",
       "      <td>0.447214</td>\n",
       "      <td>0.547723</td>\n",
       "      <td>3.347088e+07</td>\n",
       "      <td>27.022213</td>\n",
       "      <td>8.143001e+07</td>\n",
       "      <td>7.372551e+06</td>\n",
       "      <td>1.095445</td>\n",
       "    </tr>\n",
       "    <tr>\n",
       "      <th>8</th>\n",
       "      <td>8</td>\n",
       "      <td>0.699187</td>\n",
       "      <td>0.073171</td>\n",
       "      <td>0.699187</td>\n",
       "      <td>0.268293</td>\n",
       "      <td>0.121951</td>\n",
       "      <td>0.235772</td>\n",
       "      <td>-4.912355e+07</td>\n",
       "      <td>-0.312990</td>\n",
       "      <td>0.113821</td>\n",
       "      <td>...</td>\n",
       "      <td>0.426217</td>\n",
       "      <td>4.424572e+07</td>\n",
       "      <td>0.269708</td>\n",
       "      <td>0.318893</td>\n",
       "      <td>0.431191</td>\n",
       "      <td>3.381889e+07</td>\n",
       "      <td>24.115716</td>\n",
       "      <td>3.741644e+07</td>\n",
       "      <td>1.563357e+07</td>\n",
       "      <td>0.401085</td>\n",
       "    </tr>\n",
       "  </tbody>\n",
       "</table>\n",
       "<p>9 rows × 31 columns</p>\n",
       "</div>"
      ],
      "text/plain": [
       "  clusters_kmeans      mean                                      \\\n",
       "                     Action Actor1_ROITop10 Adventure    Comedy   \n",
       "0               0  0.155515        0.058770  0.092224  0.358951   \n",
       "1               1  0.530612        0.367347  0.775510  0.285714   \n",
       "2               2  0.242222        0.144444  0.195556  0.475556   \n",
       "3               3  0.436451        0.107914  0.290168  0.374101   \n",
       "4               4  0.635135        0.162162  0.878378  0.324324   \n",
       "5               5  0.290541        0.236486  0.290541  0.513514   \n",
       "6               6  0.111504        0.047788  0.076106  0.438053   \n",
       "7               7  0.800000        0.200000  0.600000  0.000000   \n",
       "8               8  0.699187        0.073171  0.699187  0.268293   \n",
       "\n",
       "                                                                  ...  \\\n",
       "  Director_ROITop10     Drama           ROI   ROI_perc   Romance  ...   \n",
       "0          0.068716  0.487342  1.190672e+07   2.375753  0.217902  ...   \n",
       "1          0.653061  0.244898  2.448820e+08   5.387488  0.163265  ...   \n",
       "2          0.093333  0.422222  4.947552e+07  18.590121  0.235556  ...   \n",
       "3          0.071942  0.446043 -2.332364e+07  -0.362153  0.179856  ...   \n",
       "4          0.189189  0.121622  5.975319e+07   0.392425  0.040541  ...   \n",
       "5          0.297297  0.398649  1.279108e+08  23.844703  0.236486  ...   \n",
       "6          0.019469  0.601770 -4.551230e+06   3.532571  0.254867  ...   \n",
       "7          0.800000  0.400000  4.471902e+08   2.313195  0.200000  ...   \n",
       "8          0.121951  0.235772 -4.912355e+07  -0.312990  0.113821  ...   \n",
       "\n",
       "        std                                                              \\\n",
       "      Drama           ROI    ROI_perc   Romance  Thriller        budget   \n",
       "0  0.500066  1.211680e+07   15.019110  0.413007  0.455320  1.180441e+07   \n",
       "1  0.434483  6.753789e+07    8.949764  0.373438  0.391230  6.902200e+07   \n",
       "2  0.494463  2.359217e+07  339.009083  0.424818  0.460684  2.556230e+07   \n",
       "3  0.497677  1.939305e+07    0.279723  0.384529  0.492437  1.717479e+07   \n",
       "4  0.329079  3.793854e+07    0.267166  0.198569  0.414473  3.809848e+07   \n",
       "5  0.491283  3.530459e+07  192.674541  0.426367  0.375953  3.048219e+07   \n",
       "6  0.489750  9.150692e+06   81.997637  0.435980  0.418204  1.069286e+07   \n",
       "7  0.547723  7.190921e+07    0.611869  0.447214  0.547723  3.347088e+07   \n",
       "8  0.426217  4.424572e+07    0.269708  0.318893  0.431191  3.381889e+07   \n",
       "\n",
       "                                                                 \n",
       "    duration         gross movie_facebook_likes oscar_nom_movie  \n",
       "0  19.457269  9.943548e+06         6.453845e+06        0.492830  \n",
       "1  25.685914  5.756818e+07         1.542527e+07        0.693752  \n",
       "2  22.496251  2.190523e+07         1.294064e+07        0.591221  \n",
       "3  25.840115  1.953796e+07         1.667763e+07        0.255812  \n",
       "4  26.319415  4.558406e+07         1.727408e+07        0.477560  \n",
       "5  25.047345  3.440246e+07         1.391243e+07        1.025417  \n",
       "6  16.045267  6.726177e+06         7.639955e+06        0.242585  \n",
       "7  27.022213  8.143001e+07         7.372551e+06        1.095445  \n",
       "8  24.115716  3.741644e+07         1.563357e+07        0.401085  \n",
       "\n",
       "[9 rows x 31 columns]"
      ]
     },
     "execution_count": 58,
     "metadata": {},
     "output_type": "execute_result"
    }
   ],
   "source": [
    "kmeans_summary = imputed_DF.pivot_table(index = 'clusters_kmeans',\n",
    "                           values = ['movie_facebook_likes',\n",
    "                                     'budget',\n",
    "                                     'gross',\n",
    "                                     'oscar_nom_movie',\n",
    "                                     'duration',\n",
    "                                     'ROI',\n",
    "                                     'ROI_perc',\n",
    "                                     'Drama',\n",
    "                                     'Comedy',\n",
    "                                     'Thriller',\n",
    "                                     'Action',\n",
    "                                     'Romance',\n",
    "                                     'Adventure',\n",
    "                                     'Actor1_ROITop10',\n",
    "                                     'Director_ROITop10'],\n",
    "                           aggfunc = [np.mean, np.std]).reset_index()\n",
    "\n",
    "kmeans_summary"
   ]
  },
  {
   "cell_type": "code",
   "execution_count": 59,
   "metadata": {},
   "outputs": [],
   "source": [
    "#kmeans_summary.to_csv('kmeans_summary.csv', encoding = 'utf-8')"
   ]
  },
  {
   "cell_type": "markdown",
   "metadata": {},
   "source": [
    "We can observe the following from the clusters:\n",
    "\n",
    "* __Cluster 0__: It has high number of Drama and Comedy movies. ROI(\\\\$) is low and so is budget and box office return, but ROI(%) is high with an average of 300%\n",
    "* __Cluster 1__: High proportion of Action and Adventure movies. ROI(%) is low but ROI(\\\\$) is high along with budget and box office return\n",
    "* __Cluster 2__: High proportion of Action and Adventure movies. ROI(%) is very high along with ROI(\\\\$), budget and box office returns. Oscar nominations high\n",
    "* __Cluster 3__: No genre is represented highly. Budget and box office return is moderate along with ROI(%) and ROI($)\n",
    "* __Cluster 4__: Adventure heavy. Very high ROI(%) and high ROI(\\\\$), budget and box office return\n",
    "* __Cluster 5__: Comedy and Drama are represented equally. Others moderate\n",
    "* __Cluster 6__: Loss making big budget Action and Adventure movies\n",
    "* __Cluster 7__: Comedy hits. Heavy on Drama. High budget, ROI and box office returns\n",
    "* __Cluster 8__: Flop Family entertainers. Comedy + Drama + Action. Negative Returns, moderate budget\n",
    "\n",
    "\n",
    "We need to keep in mind that the observations are dependant on the standard deviation of the measures as well, which in this case is pretty high."
   ]
  },
  {
   "cell_type": "markdown",
   "metadata": {},
   "source": [
    "## Step 3: Predictive Modeling"
   ]
  },
  {
   "cell_type": "markdown",
   "metadata": {},
   "source": [
    "Assessing VIF to understand if we should eliminate some columns from the analysis"
   ]
  },
  {
   "cell_type": "code",
   "execution_count": 60,
   "metadata": {},
   "outputs": [
    {
     "data": {
      "text/html": [
       "<div>\n",
       "<style scoped>\n",
       "    .dataframe tbody tr th:only-of-type {\n",
       "        vertical-align: middle;\n",
       "    }\n",
       "\n",
       "    .dataframe tbody tr th {\n",
       "        vertical-align: top;\n",
       "    }\n",
       "\n",
       "    .dataframe thead th {\n",
       "        text-align: right;\n",
       "    }\n",
       "</style>\n",
       "<table border=\"1\" class=\"dataframe\">\n",
       "  <thead>\n",
       "    <tr style=\"text-align: right;\">\n",
       "      <th></th>\n",
       "      <th>VIF Factor</th>\n",
       "      <th>features</th>\n",
       "    </tr>\n",
       "  </thead>\n",
       "  <tbody>\n",
       "    <tr>\n",
       "      <th>0</th>\n",
       "      <td>7.85</td>\n",
       "      <td>id</td>\n",
       "    </tr>\n",
       "    <tr>\n",
       "      <th>1</th>\n",
       "      <td>338660.01</td>\n",
       "      <td>movie_facebook_likes</td>\n",
       "    </tr>\n",
       "    <tr>\n",
       "      <th>2</th>\n",
       "      <td>3.49</td>\n",
       "      <td>prolific_director</td>\n",
       "    </tr>\n",
       "    <tr>\n",
       "      <th>3</th>\n",
       "      <td>1.64</td>\n",
       "      <td>director_facebook_likes</td>\n",
       "    </tr>\n",
       "    <tr>\n",
       "      <th>4</th>\n",
       "      <td>338661.56</td>\n",
       "      <td>actor_1_facebook_likes</td>\n",
       "    </tr>\n",
       "  </tbody>\n",
       "</table>\n",
       "</div>"
      ],
      "text/plain": [
       "   VIF Factor                 features\n",
       "0        7.85                       id\n",
       "1   338660.01     movie_facebook_likes\n",
       "2        3.49        prolific_director\n",
       "3        1.64  director_facebook_likes\n",
       "4   338661.56   actor_1_facebook_likes"
      ]
     },
     "execution_count": 60,
     "metadata": {},
     "output_type": "execute_result"
    }
   ],
   "source": [
    "from statsmodels.stats.outliers_influence import variance_inflation_factor\n",
    "\n",
    "# For each X, calculate VIF and save in dataframe\n",
    "vif = pd.DataFrame()\n",
    "vif[\"VIF Factor\"] = [variance_inflation_factor(imputed_DF.values, i) for i in range(imputed_DF.shape[1])]\n",
    "vif[\"features\"] = imputed_DF.columns\n",
    "vif.round(2).head()"
   ]
  },
  {
   "cell_type": "markdown",
   "metadata": {},
   "source": [
    "Dropping the following variables:\n",
    "\n",
    "* movie_facebook_likes - not known until movie releases (most cases)\n",
    "* num_critics_for_reviews - not known\n",
    "* num_voted_users - not known\n",
    "* num_users_for_review - not known\n",
    "* imdb_score - not known\n",
    "* oscar_nom_movie - not known\n",
    "* ROI - used to calculate ROI_perc with budget\n",
    "* gross - not known\n"
   ]
  },
  {
   "cell_type": "code",
   "execution_count": 61,
   "metadata": {},
   "outputs": [],
   "source": [
    "X = imputed_DF.drop(['id',\n",
    "                     'movie_facebook_likes',\n",
    "                     'title_year', # because of VIF\n",
    "                     'duration',\n",
    "                     'ROI_perc', \n",
    "                     'gross',\n",
    "                     'ROI',\n",
    "                     'num_critic_for_reviews',\n",
    "                     'oscar_nom_movie',\n",
    "                     'decade',\n",
    "                     'num_voted_users',\n",
    "                     'num_user_for_reviews',\n",
    "                     'imdb_score'], axis = 1) # removing variables not known before a movie releases\n",
    "y = imputed_DF.ROI"
   ]
  },
  {
   "cell_type": "markdown",
   "metadata": {},
   "source": [
    "### Nearest Neighbor model to predict ROI"
   ]
  },
  {
   "cell_type": "code",
   "execution_count": 62,
   "metadata": {},
   "outputs": [
    {
     "data": {
      "text/plain": [
       "0.15029562391963858"
      ]
     },
     "execution_count": 62,
     "metadata": {},
     "output_type": "execute_result"
    }
   ],
   "source": [
    "from sklearn.neighbors import KNeighborsRegressor\n",
    "knn = KNeighborsRegressor(n_neighbors = 10)\n",
    "knn.fit(X,y)\n",
    "preds = knn.predict(X)\n",
    "\n",
    "SST = np.sum((np.mean(y) - y)**2)\n",
    "SSE = np.sum((preds - y)**2)\n",
    "\n",
    "1 - (SSE/SST) # R2"
   ]
  },
  {
   "cell_type": "markdown",
   "metadata": {},
   "source": [
    "### OLS model to predict ROI"
   ]
  },
  {
   "cell_type": "code",
   "execution_count": 63,
   "metadata": {},
   "outputs": [
    {
     "data": {
      "text/html": [
       "<div>\n",
       "<style scoped>\n",
       "    .dataframe tbody tr th:only-of-type {\n",
       "        vertical-align: middle;\n",
       "    }\n",
       "\n",
       "    .dataframe tbody tr th {\n",
       "        vertical-align: top;\n",
       "    }\n",
       "\n",
       "    .dataframe thead th {\n",
       "        text-align: right;\n",
       "    }\n",
       "</style>\n",
       "<table border=\"1\" class=\"dataframe\">\n",
       "  <thead>\n",
       "    <tr style=\"text-align: right;\">\n",
       "      <th></th>\n",
       "      <th>coefs</th>\n",
       "      <th>pvals</th>\n",
       "    </tr>\n",
       "  </thead>\n",
       "  <tbody>\n",
       "    <tr>\n",
       "      <th>prolific_director</th>\n",
       "      <td>644027.66</td>\n",
       "      <td>0.00</td>\n",
       "    </tr>\n",
       "    <tr>\n",
       "      <th>actor_2_facebook_likes</th>\n",
       "      <td>489.70</td>\n",
       "      <td>0.02</td>\n",
       "    </tr>\n",
       "    <tr>\n",
       "      <th>actor_3_facebook_likes</th>\n",
       "      <td>2779.50</td>\n",
       "      <td>0.00</td>\n",
       "    </tr>\n",
       "    <tr>\n",
       "      <th>budget</th>\n",
       "      <td>-0.09</td>\n",
       "      <td>0.00</td>\n",
       "    </tr>\n",
       "    <tr>\n",
       "      <th>facenumber_in_poster</th>\n",
       "      <td>-765640.13</td>\n",
       "      <td>0.04</td>\n",
       "    </tr>\n",
       "    <tr>\n",
       "      <th>oscar_nom_actor</th>\n",
       "      <td>-939594.92</td>\n",
       "      <td>0.00</td>\n",
       "    </tr>\n",
       "    <tr>\n",
       "      <th>Western</th>\n",
       "      <td>-12047016.43</td>\n",
       "      <td>0.03</td>\n",
       "    </tr>\n",
       "    <tr>\n",
       "      <th>Thriller</th>\n",
       "      <td>-5551803.61</td>\n",
       "      <td>0.01</td>\n",
       "    </tr>\n",
       "    <tr>\n",
       "      <th>Drama</th>\n",
       "      <td>-3604747.52</td>\n",
       "      <td>0.04</td>\n",
       "    </tr>\n",
       "    <tr>\n",
       "      <th>Actor2_ROITop10</th>\n",
       "      <td>25311263.13</td>\n",
       "      <td>0.00</td>\n",
       "    </tr>\n",
       "    <tr>\n",
       "      <th>Actor3_ROITop10</th>\n",
       "      <td>23502190.23</td>\n",
       "      <td>0.04</td>\n",
       "    </tr>\n",
       "    <tr>\n",
       "      <th>Actor2_ROIpercTop10</th>\n",
       "      <td>-12537191.63</td>\n",
       "      <td>0.01</td>\n",
       "    </tr>\n",
       "    <tr>\n",
       "      <th>Actor3_ROIpercTop10</th>\n",
       "      <td>14486258.99</td>\n",
       "      <td>0.01</td>\n",
       "    </tr>\n",
       "    <tr>\n",
       "      <th>Director_ROITop10</th>\n",
       "      <td>37544884.05</td>\n",
       "      <td>0.00</td>\n",
       "    </tr>\n",
       "    <tr>\n",
       "      <th>Director_grossTop10</th>\n",
       "      <td>14819113.63</td>\n",
       "      <td>0.02</td>\n",
       "    </tr>\n",
       "    <tr>\n",
       "      <th>color_ Black and White</th>\n",
       "      <td>-8263704.07</td>\n",
       "      <td>0.04</td>\n",
       "    </tr>\n",
       "    <tr>\n",
       "      <th>content_rating_G</th>\n",
       "      <td>20511493.92</td>\n",
       "      <td>0.00</td>\n",
       "    </tr>\n",
       "    <tr>\n",
       "      <th>content_rating_PG</th>\n",
       "      <td>18210088.82</td>\n",
       "      <td>0.00</td>\n",
       "    </tr>\n",
       "    <tr>\n",
       "      <th>content_rating_PG-13</th>\n",
       "      <td>23663265.62</td>\n",
       "      <td>0.00</td>\n",
       "    </tr>\n",
       "    <tr>\n",
       "      <th>content_rating_R</th>\n",
       "      <td>20444873.62</td>\n",
       "      <td>0.00</td>\n",
       "    </tr>\n",
       "    <tr>\n",
       "      <th>clusters_kmeans</th>\n",
       "      <td>-3559933.24</td>\n",
       "      <td>0.00</td>\n",
       "    </tr>\n",
       "  </tbody>\n",
       "</table>\n",
       "</div>"
      ],
      "text/plain": [
       "                              coefs  pvals\n",
       "prolific_director         644027.66   0.00\n",
       "actor_2_facebook_likes       489.70   0.02\n",
       "actor_3_facebook_likes      2779.50   0.00\n",
       "budget                        -0.09   0.00\n",
       "facenumber_in_poster     -765640.13   0.04\n",
       "oscar_nom_actor          -939594.92   0.00\n",
       "Western                -12047016.43   0.03\n",
       "Thriller                -5551803.61   0.01\n",
       "Drama                   -3604747.52   0.04\n",
       "Actor2_ROITop10         25311263.13   0.00\n",
       "Actor3_ROITop10         23502190.23   0.04\n",
       "Actor2_ROIpercTop10    -12537191.63   0.01\n",
       "Actor3_ROIpercTop10     14486258.99   0.01\n",
       "Director_ROITop10       37544884.05   0.00\n",
       "Director_grossTop10     14819113.63   0.02\n",
       "color_ Black and White  -8263704.07   0.04\n",
       "content_rating_G        20511493.92   0.00\n",
       "content_rating_PG       18210088.82   0.00\n",
       "content_rating_PG-13    23663265.62   0.00\n",
       "content_rating_R        20444873.62   0.00\n",
       "clusters_kmeans         -3559933.24   0.00"
      ]
     },
     "execution_count": 63,
     "metadata": {},
     "output_type": "execute_result"
    }
   ],
   "source": [
    "import statsmodels.api as sm\n",
    "\n",
    "model = sm.OLS(y, X).fit()\n",
    "predictions = model.predict(X)\n",
    "\n",
    "# Print out the statistics\n",
    "ols_summary = pd.DataFrame(data = {'coefs':round(model.params,2), 'pvals':round(model.pvalues,2)})\n",
    "\n",
    "ols_summary.loc[ols_summary['pvals'] <= 0.05,:]"
   ]
  },
  {
   "cell_type": "markdown",
   "metadata": {},
   "source": [
    "### Tree based model to predict ROI"
   ]
  },
  {
   "cell_type": "markdown",
   "metadata": {},
   "source": [
    "Using a Random Forest model to predict ROI"
   ]
  },
  {
   "cell_type": "code",
   "execution_count": 64,
   "metadata": {},
   "outputs": [],
   "source": [
    "y = np.array(y)\n",
    "\n",
    "feature_list = list(X.columns) # saving feature names for later use\n",
    "X = np.array(X)"
   ]
  },
  {
   "cell_type": "code",
   "execution_count": 65,
   "metadata": {},
   "outputs": [],
   "source": [
    "from sklearn.model_selection import train_test_split\n",
    "# Split the data into training and testing sets\n",
    "train_features, test_features, train_labels, test_labels = train_test_split(X, \n",
    "                                                                            y, \n",
    "                                                                            test_size = 0.3, \n",
    "                                                                            random_state = 100)"
   ]
  },
  {
   "cell_type": "markdown",
   "metadata": {},
   "source": [
    "Baseline Error"
   ]
  },
  {
   "cell_type": "code",
   "execution_count": 66,
   "metadata": {},
   "outputs": [
    {
     "name": "stdout",
     "output_type": "stream",
     "text": [
      "Average baseline error:  29342993.63\n"
     ]
    }
   ],
   "source": [
    "baseline_preds = train_labels.mean()\n",
    "\n",
    "baseline_errors = abs(baseline_preds - test_labels)\n",
    "print('Average baseline error: ', round(np.mean(baseline_errors), 2))"
   ]
  },
  {
   "cell_type": "code",
   "execution_count": 67,
   "metadata": {},
   "outputs": [],
   "source": [
    "# Import the model we are using\n",
    "from sklearn.ensemble import RandomForestRegressor\n",
    "\n",
    "# Instantiate model with 1000 decision trees\n",
    "rf = RandomForestRegressor(n_estimators = 1000, \n",
    "                           random_state = 100)\n",
    "\n",
    "# Train the model on training data\n",
    "rf.fit(train_features, train_labels);"
   ]
  },
  {
   "cell_type": "code",
   "execution_count": 68,
   "metadata": {},
   "outputs": [
    {
     "data": {
      "text/plain": [
       "4502971.009305181"
      ]
     },
     "execution_count": 68,
     "metadata": {},
     "output_type": "execute_result"
    }
   ],
   "source": [
    "pred_train = rf.predict(train_features)\n",
    "er = abs(pred_train - train_labels)\n",
    "np.mean(er)"
   ]
  },
  {
   "cell_type": "markdown",
   "metadata": {},
   "source": [
    "Making predictions on the test set"
   ]
  },
  {
   "cell_type": "code",
   "execution_count": 69,
   "metadata": {
    "scrolled": true
   },
   "outputs": [],
   "source": [
    "# Use the forest's predict method on the test data\n",
    "predictions = rf.predict(test_features)"
   ]
  },
  {
   "cell_type": "markdown",
   "metadata": {},
   "source": [
    "OOS R2:"
   ]
  },
  {
   "cell_type": "code",
   "execution_count": 70,
   "metadata": {},
   "outputs": [
    {
     "data": {
      "text/plain": [
       "0.8561424018583643"
      ]
     },
     "execution_count": 70,
     "metadata": {},
     "output_type": "execute_result"
    }
   ],
   "source": [
    "SST = np.sum((np.mean(train_labels) - test_labels)**2)\n",
    "SSE = np.sum((predictions - test_labels)**2)\n",
    "\n",
    "1 - (SSE/SST)"
   ]
  },
  {
   "cell_type": "markdown",
   "metadata": {},
   "source": [
    "__Variable Importances__"
   ]
  },
  {
   "cell_type": "code",
   "execution_count": 71,
   "metadata": {},
   "outputs": [
    {
     "name": "stdout",
     "output_type": "stream",
     "text": [
      "Variable: clusters_kmeans      Importance: 0.67\n",
      "Variable: budget               Importance: 0.11\n",
      "Variable: Director_ROITop10    Importance: 0.04\n",
      "Variable: director_facebook_likes Importance: 0.03\n",
      "Variable: actor_3_facebook_likes Importance: 0.03\n",
      "Variable: prolific_director    Importance: 0.02\n",
      "Variable: actor_1_facebook_likes Importance: 0.02\n",
      "Variable: actor_2_facebook_likes Importance: 0.02\n",
      "Variable: facenumber_in_poster Importance: 0.01\n",
      "Variable: oscar_nom_actor      Importance: 0.01\n",
      "Variable: Sci-Fi               Importance: 0.01\n",
      "Variable: Adventure            Importance: 0.01\n",
      "Variable: Director_grossTop10  Importance: 0.01\n",
      "Variable: Fantasy              Importance: 0.0\n",
      "Variable: Western              Importance: 0.0\n",
      "Variable: Horror               Importance: 0.0\n",
      "Variable: Crime                Importance: 0.0\n",
      "Variable: Action               Importance: 0.0\n",
      "Variable: Biography            Importance: 0.0\n",
      "Variable: Mystery              Importance: 0.0\n",
      "Variable: Thriller             Importance: 0.0\n",
      "Variable: Drama                Importance: 0.0\n",
      "Variable: Animation            Importance: 0.0\n",
      "Variable: Comedy               Importance: 0.0\n",
      "Variable: Romance              Importance: 0.0\n",
      "Variable: Family               Importance: 0.0\n",
      "Variable: Actor1_ROITop10      Importance: 0.0\n",
      "Variable: Actor2_ROITop10      Importance: 0.0\n",
      "Variable: Actor3_ROITop10      Importance: 0.0\n",
      "Variable: Actor1_ROIpercTop10  Importance: 0.0\n",
      "Variable: Actor2_ROIpercTop10  Importance: 0.0\n",
      "Variable: Actor3_ROIpercTop10  Importance: 0.0\n",
      "Variable: Actor1_grossTop10    Importance: 0.0\n",
      "Variable: Actor2_grossTop10    Importance: 0.0\n",
      "Variable: Actor3_grossTop10    Importance: 0.0\n",
      "Variable: Director_ROIpercTop10 Importance: 0.0\n",
      "Variable: color_ Black and White Importance: 0.0\n",
      "Variable: content_rating_G     Importance: 0.0\n",
      "Variable: content_rating_NC-17 Importance: 0.0\n",
      "Variable: content_rating_PG    Importance: 0.0\n",
      "Variable: content_rating_PG-13 Importance: 0.0\n",
      "Variable: content_rating_R     Importance: 0.0\n",
      "Variable: content_rating_Unrated Importance: 0.0\n",
      "Variable: content_rating_X     Importance: 0.0\n"
     ]
    }
   ],
   "source": [
    "# Get numerical feature importances\n",
    "importances = list(rf.feature_importances_)\n",
    "# List of tuples with variable and importance\n",
    "feature_importances = [(feature, round(importance, 2)) for feature, importance in zip(feature_list, importances)]\n",
    "# Sort the feature importances by most important first\n",
    "feature_importances = sorted(feature_importances, key = lambda x: x[1], reverse = True)\n",
    "# Print out the feature and importances \n",
    "[print('Variable: {:20} Importance: {}'.format(*pair)) for pair in feature_importances];"
   ]
  },
  {
   "cell_type": "markdown",
   "metadata": {},
   "source": [
    " "
   ]
  },
  {
   "cell_type": "markdown",
   "metadata": {},
   "source": [
    "### Model to predict Likeability"
   ]
  },
  {
   "cell_type": "markdown",
   "metadata": {},
   "source": [
    "#### 1. OLS Facebook likes"
   ]
  },
  {
   "cell_type": "code",
   "execution_count": 72,
   "metadata": {},
   "outputs": [],
   "source": [
    "X = imputed_DF.drop(['id',\n",
    "                     'movie_facebook_likes',\n",
    "                     'title_year', # because of VIF\n",
    "                     'duration',\n",
    "                     'ROI_perc', \n",
    "                     'gross',\n",
    "                     'ROI',\n",
    "                     'num_critic_for_reviews',\n",
    "                     'oscar_nom_movie',\n",
    "                     'decade',\n",
    "                     'num_voted_users',\n",
    "                     'num_user_for_reviews',\n",
    "                     'actor_1_facebook_likes', # data issue - most values are exactly same as movie likes\n",
    "                     'imdb_score'], axis = 1) # removing variables not known before a movie releases\n",
    "y = imputed_DF.movie_facebook_likes"
   ]
  },
  {
   "cell_type": "code",
   "execution_count": 73,
   "metadata": {},
   "outputs": [
    {
     "data": {
      "text/plain": [
       "0.14945827108844867"
      ]
     },
     "execution_count": 73,
     "metadata": {},
     "output_type": "execute_result"
    }
   ],
   "source": [
    "from sklearn.neighbors import KNeighborsRegressor\n",
    "knn = KNeighborsRegressor(n_neighbors = 10)\n",
    "knn.fit(X,y)\n",
    "preds = knn.predict(X)\n",
    "SST = np.sum((np.mean(y) - y)**2)\n",
    "SSE = np.sum((preds - y)**2)\n",
    "\n",
    "1 - (SSE/SST) # R2"
   ]
  },
  {
   "cell_type": "code",
   "execution_count": 74,
   "metadata": {},
   "outputs": [
    {
     "data": {
      "text/html": [
       "<div>\n",
       "<style scoped>\n",
       "    .dataframe tbody tr th:only-of-type {\n",
       "        vertical-align: middle;\n",
       "    }\n",
       "\n",
       "    .dataframe tbody tr th {\n",
       "        vertical-align: top;\n",
       "    }\n",
       "\n",
       "    .dataframe thead th {\n",
       "        text-align: right;\n",
       "    }\n",
       "</style>\n",
       "<table border=\"1\" class=\"dataframe\">\n",
       "  <thead>\n",
       "    <tr style=\"text-align: right;\">\n",
       "      <th></th>\n",
       "      <th>coefs</th>\n",
       "      <th>pvals</th>\n",
       "    </tr>\n",
       "  </thead>\n",
       "  <tbody>\n",
       "    <tr>\n",
       "      <th>actor_3_facebook_likes</th>\n",
       "      <td>263.65</td>\n",
       "      <td>0.02</td>\n",
       "    </tr>\n",
       "    <tr>\n",
       "      <th>budget</th>\n",
       "      <td>0.03</td>\n",
       "      <td>0.00</td>\n",
       "    </tr>\n",
       "    <tr>\n",
       "      <th>oscar_nom_actor</th>\n",
       "      <td>-208133.26</td>\n",
       "      <td>0.00</td>\n",
       "    </tr>\n",
       "    <tr>\n",
       "      <th>Fantasy</th>\n",
       "      <td>-1265040.92</td>\n",
       "      <td>0.02</td>\n",
       "    </tr>\n",
       "    <tr>\n",
       "      <th>Horror</th>\n",
       "      <td>-1268871.81</td>\n",
       "      <td>0.04</td>\n",
       "    </tr>\n",
       "    <tr>\n",
       "      <th>Crime</th>\n",
       "      <td>1462319.22</td>\n",
       "      <td>0.00</td>\n",
       "    </tr>\n",
       "    <tr>\n",
       "      <th>Action</th>\n",
       "      <td>1401097.71</td>\n",
       "      <td>0.01</td>\n",
       "    </tr>\n",
       "    <tr>\n",
       "      <th>Family</th>\n",
       "      <td>2145346.91</td>\n",
       "      <td>0.01</td>\n",
       "    </tr>\n",
       "    <tr>\n",
       "      <th>Actor1_ROIpercTop10</th>\n",
       "      <td>-6102954.91</td>\n",
       "      <td>0.00</td>\n",
       "    </tr>\n",
       "    <tr>\n",
       "      <th>Actor1_grossTop10</th>\n",
       "      <td>16649425.83</td>\n",
       "      <td>0.00</td>\n",
       "    </tr>\n",
       "    <tr>\n",
       "      <th>content_rating_PG-13</th>\n",
       "      <td>2140630.79</td>\n",
       "      <td>0.00</td>\n",
       "    </tr>\n",
       "    <tr>\n",
       "      <th>content_rating_R</th>\n",
       "      <td>1606456.45</td>\n",
       "      <td>0.01</td>\n",
       "    </tr>\n",
       "  </tbody>\n",
       "</table>\n",
       "</div>"
      ],
      "text/plain": [
       "                              coefs  pvals\n",
       "actor_3_facebook_likes       263.65   0.02\n",
       "budget                         0.03   0.00\n",
       "oscar_nom_actor          -208133.26   0.00\n",
       "Fantasy                 -1265040.92   0.02\n",
       "Horror                  -1268871.81   0.04\n",
       "Crime                    1462319.22   0.00\n",
       "Action                   1401097.71   0.01\n",
       "Family                   2145346.91   0.01\n",
       "Actor1_ROIpercTop10     -6102954.91   0.00\n",
       "Actor1_grossTop10       16649425.83   0.00\n",
       "content_rating_PG-13     2140630.79   0.00\n",
       "content_rating_R         1606456.45   0.01"
      ]
     },
     "execution_count": 74,
     "metadata": {},
     "output_type": "execute_result"
    }
   ],
   "source": [
    "import statsmodels.api as sm\n",
    "\n",
    "# Note the difference in argument order\n",
    "model = sm.OLS(y, X).fit()\n",
    "predictions = model.predict(X) # make the predictions by the model\n",
    "\n",
    "# Print out the statistics\n",
    "model.summary()\n",
    "# Print out the statistics\n",
    "ols_summary = pd.DataFrame(data = {'coefs':round(model.params,2), 'pvals':round(model.pvalues,2)})\n",
    "ols_summary.loc[ols_summary['pvals'] <= 0.05,:]"
   ]
  },
  {
   "cell_type": "code",
   "execution_count": 75,
   "metadata": {},
   "outputs": [
    {
     "name": "stdout",
     "output_type": "stream",
     "text": [
      "Variable: clusters_kmeans      Importance: 0.67\n",
      "Variable: budget               Importance: 0.11\n",
      "Variable: Director_ROITop10    Importance: 0.04\n",
      "Variable: director_facebook_likes Importance: 0.03\n",
      "Variable: actor_3_facebook_likes Importance: 0.03\n",
      "Variable: prolific_director    Importance: 0.02\n",
      "Variable: actor_1_facebook_likes Importance: 0.02\n",
      "Variable: actor_2_facebook_likes Importance: 0.02\n",
      "Variable: facenumber_in_poster Importance: 0.01\n",
      "Variable: oscar_nom_actor      Importance: 0.01\n",
      "Variable: Sci-Fi               Importance: 0.01\n",
      "Variable: Adventure            Importance: 0.01\n",
      "Variable: Director_grossTop10  Importance: 0.01\n",
      "Variable: Fantasy              Importance: 0.0\n",
      "Variable: Western              Importance: 0.0\n",
      "Variable: Horror               Importance: 0.0\n",
      "Variable: Crime                Importance: 0.0\n",
      "Variable: Action               Importance: 0.0\n",
      "Variable: Biography            Importance: 0.0\n",
      "Variable: Mystery              Importance: 0.0\n",
      "Variable: Thriller             Importance: 0.0\n",
      "Variable: Drama                Importance: 0.0\n",
      "Variable: Animation            Importance: 0.0\n",
      "Variable: Comedy               Importance: 0.0\n",
      "Variable: Romance              Importance: 0.0\n",
      "Variable: Family               Importance: 0.0\n",
      "Variable: Actor1_ROITop10      Importance: 0.0\n",
      "Variable: Actor2_ROITop10      Importance: 0.0\n",
      "Variable: Actor3_ROITop10      Importance: 0.0\n",
      "Variable: Actor1_ROIpercTop10  Importance: 0.0\n",
      "Variable: Actor2_ROIpercTop10  Importance: 0.0\n",
      "Variable: Actor3_ROIpercTop10  Importance: 0.0\n",
      "Variable: Actor1_grossTop10    Importance: 0.0\n",
      "Variable: Actor2_grossTop10    Importance: 0.0\n",
      "Variable: Actor3_grossTop10    Importance: 0.0\n",
      "Variable: Director_ROIpercTop10 Importance: 0.0\n",
      "Variable: color_ Black and White Importance: 0.0\n",
      "Variable: content_rating_G     Importance: 0.0\n",
      "Variable: content_rating_NC-17 Importance: 0.0\n",
      "Variable: content_rating_PG    Importance: 0.0\n",
      "Variable: content_rating_PG-13 Importance: 0.0\n",
      "Variable: content_rating_R     Importance: 0.0\n",
      "Variable: content_rating_Unrated Importance: 0.0\n",
      "Variable: content_rating_X     Importance: 0.0\n"
     ]
    }
   ],
   "source": [
    "# Get numerical feature importances\n",
    "importances = list(rf.feature_importances_)\n",
    "# List of tuples with variable and importance\n",
    "feature_importances = [(feature, round(importance, 2)) for feature, importance in zip(feature_list, importances)]\n",
    "# Sort the feature importances by most important first\n",
    "feature_importances = sorted(feature_importances, key = lambda x: x[1], reverse = True)\n",
    "# Print out the feature and importances \n",
    "[print('Variable: {:20} Importance: {}'.format(*pair)) for pair in feature_importances];"
   ]
  },
  {
   "cell_type": "markdown",
   "metadata": {},
   "source": [
    " "
   ]
  },
  {
   "cell_type": "markdown",
   "metadata": {},
   "source": [
    "#### 2. Random Forest Facebook Likes"
   ]
  },
  {
   "cell_type": "markdown",
   "metadata": {},
   "source": [
    "Using a Random Forest model to predict ROI"
   ]
  },
  {
   "cell_type": "code",
   "execution_count": 76,
   "metadata": {},
   "outputs": [],
   "source": [
    "X = imputed_DF.drop(['id',\n",
    "                     'movie_facebook_likes',\n",
    "                     'title_year', # because of VIF\n",
    "                     'duration',\n",
    "                     'ROI_perc', \n",
    "                     'gross',\n",
    "                     'ROI',\n",
    "                     'num_critic_for_reviews',\n",
    "                     'oscar_nom_movie',\n",
    "                     'decade',\n",
    "                     'num_voted_users',\n",
    "                     'num_user_for_reviews',\n",
    "                     'actor_1_facebook_likes', # data issue - most values are exactly same as movie likes\n",
    "                     'imdb_score'], axis = 1) # removing variables not known before a movie releases\n",
    "y = imputed_DF.movie_facebook_likes"
   ]
  },
  {
   "cell_type": "code",
   "execution_count": 77,
   "metadata": {},
   "outputs": [],
   "source": [
    "y = np.array(y)\n",
    "\n",
    "feature_list = list(X.columns) # saving feature names for later use\n",
    "X = np.array(X)"
   ]
  },
  {
   "cell_type": "code",
   "execution_count": 78,
   "metadata": {},
   "outputs": [],
   "source": [
    "from sklearn.model_selection import train_test_split\n",
    "# Split the data into training and testing sets\n",
    "train_features, test_features, train_labels, test_labels = train_test_split(X, \n",
    "                                                                            y, \n",
    "                                                                            test_size = 0.3, \n",
    "                                                                            random_state = 100)"
   ]
  },
  {
   "cell_type": "markdown",
   "metadata": {},
   "source": [
    "Baseline Error"
   ]
  },
  {
   "cell_type": "code",
   "execution_count": 79,
   "metadata": {},
   "outputs": [
    {
     "name": "stdout",
     "output_type": "stream",
     "text": [
      "Average baseline error:  4787358.25\n"
     ]
    }
   ],
   "source": [
    "baseline_preds = train_labels.mean()\n",
    "\n",
    "baseline_errors = abs(baseline_preds - test_labels)\n",
    "print('Average baseline error: ', round(np.mean(baseline_errors), 2))"
   ]
  },
  {
   "cell_type": "code",
   "execution_count": 80,
   "metadata": {},
   "outputs": [],
   "source": [
    "# Import the model we are using\n",
    "from sklearn.ensemble import RandomForestRegressor\n",
    "\n",
    "# Instantiate model with 1000 decision trees\n",
    "rf = RandomForestRegressor(n_estimators = 1000, \n",
    "                           random_state = 100)\n",
    "\n",
    "# Train the model on training data\n",
    "rf.fit(train_features, train_labels);"
   ]
  },
  {
   "cell_type": "code",
   "execution_count": 81,
   "metadata": {},
   "outputs": [
    {
     "data": {
      "text/plain": [
       "1596982.7281742147"
      ]
     },
     "execution_count": 81,
     "metadata": {},
     "output_type": "execute_result"
    }
   ],
   "source": [
    "pred_train = rf.predict(train_features)\n",
    "er = abs(pred_train - train_labels)\n",
    "np.mean(er)"
   ]
  },
  {
   "cell_type": "markdown",
   "metadata": {},
   "source": [
    "Making predictions on the test set"
   ]
  },
  {
   "cell_type": "code",
   "execution_count": 82,
   "metadata": {},
   "outputs": [],
   "source": [
    "# Use the forest's predict method on the test data\n",
    "predictions = rf.predict(test_features)"
   ]
  },
  {
   "cell_type": "markdown",
   "metadata": {},
   "source": [
    "OOS R2:"
   ]
  },
  {
   "cell_type": "code",
   "execution_count": 83,
   "metadata": {},
   "outputs": [
    {
     "data": {
      "text/plain": [
       "0.3569489469240126"
      ]
     },
     "execution_count": 83,
     "metadata": {},
     "output_type": "execute_result"
    }
   ],
   "source": [
    "SST = np.sum((np.mean(train_labels) - test_labels)**2)\n",
    "SSE = np.sum((predictions - test_labels)**2)\n",
    "\n",
    "1 - (SSE/SST)"
   ]
  },
  {
   "cell_type": "markdown",
   "metadata": {},
   "source": [
    "__Variable Importances__"
   ]
  },
  {
   "cell_type": "code",
   "execution_count": 84,
   "metadata": {},
   "outputs": [
    {
     "name": "stdout",
     "output_type": "stream",
     "text": [
      "Variable: budget               Importance: 0.11\n",
      "Variable: actor_2_facebook_likes Importance: 0.1\n",
      "Variable: actor_3_facebook_likes Importance: 0.1\n",
      "Variable: director_facebook_likes Importance: 0.09\n",
      "Variable: oscar_nom_actor      Importance: 0.09\n",
      "Variable: Actor1_grossTop10    Importance: 0.09\n",
      "Variable: prolific_director    Importance: 0.06\n",
      "Variable: facenumber_in_poster Importance: 0.05\n",
      "Variable: Action               Importance: 0.03\n",
      "Variable: clusters_kmeans      Importance: 0.03\n",
      "Variable: Crime                Importance: 0.02\n",
      "Variable: Thriller             Importance: 0.02\n",
      "Variable: Sci-Fi               Importance: 0.02\n",
      "Variable: Actor1_ROITop10      Importance: 0.02\n",
      "Variable: Actor1_ROIpercTop10  Importance: 0.02\n",
      "Variable: Fantasy              Importance: 0.01\n",
      "Variable: Horror               Importance: 0.01\n",
      "Variable: Drama                Importance: 0.01\n",
      "Variable: Comedy               Importance: 0.01\n",
      "Variable: Romance              Importance: 0.01\n",
      "Variable: Family               Importance: 0.01\n",
      "Variable: Adventure            Importance: 0.01\n",
      "Variable: Actor3_grossTop10    Importance: 0.01\n",
      "Variable: Director_ROITop10    Importance: 0.01\n",
      "Variable: Director_grossTop10  Importance: 0.01\n",
      "Variable: content_rating_PG    Importance: 0.01\n",
      "Variable: content_rating_PG-13 Importance: 0.01\n",
      "Variable: content_rating_R     Importance: 0.01\n",
      "Variable: Western              Importance: 0.0\n",
      "Variable: Biography            Importance: 0.0\n",
      "Variable: Mystery              Importance: 0.0\n",
      "Variable: Animation            Importance: 0.0\n",
      "Variable: Actor2_ROITop10      Importance: 0.0\n",
      "Variable: Actor3_ROITop10      Importance: 0.0\n",
      "Variable: Actor2_ROIpercTop10  Importance: 0.0\n",
      "Variable: Actor3_ROIpercTop10  Importance: 0.0\n",
      "Variable: Actor2_grossTop10    Importance: 0.0\n",
      "Variable: Director_ROIpercTop10 Importance: 0.0\n",
      "Variable: color_ Black and White Importance: 0.0\n",
      "Variable: content_rating_G     Importance: 0.0\n",
      "Variable: content_rating_NC-17 Importance: 0.0\n",
      "Variable: content_rating_Unrated Importance: 0.0\n",
      "Variable: content_rating_X     Importance: 0.0\n"
     ]
    }
   ],
   "source": [
    "# Get numerical feature importances\n",
    "importances = list(rf.feature_importances_)\n",
    "# List of tuples with variable and importance\n",
    "feature_importances = [(feature, round(importance, 2)) for feature, importance in zip(feature_list, importances)]\n",
    "# Sort the feature importances by most important first\n",
    "feature_importances = sorted(feature_importances, key = lambda x: x[1], reverse = True)\n",
    "# Print out the feature and importances \n",
    "[print('Variable: {:20} Importance: {}'.format(*pair)) for pair in feature_importances];"
   ]
  },
  {
   "cell_type": "markdown",
   "metadata": {},
   "source": [
    " "
   ]
  },
  {
   "cell_type": "markdown",
   "metadata": {},
   "source": [
    " ## Replicating the models for last 3 years"
   ]
  },
  {
   "cell_type": "markdown",
   "metadata": {},
   "source": [
    "Subsetting data to last 3 years"
   ]
  },
  {
   "cell_type": "code",
   "execution_count": 111,
   "metadata": {},
   "outputs": [],
   "source": [
    "imputed_DFL3 = imputed_DF.loc[imputed_DF['title_year'] >= 2013,:]"
   ]
  },
  {
   "cell_type": "code",
   "execution_count": 112,
   "metadata": {},
   "outputs": [],
   "source": [
    "X = imputed_DFL3.drop(['id',\n",
    "                     'movie_facebook_likes',\n",
    "                     'title_year', # because of VIF\n",
    "                     'duration',\n",
    "                     'ROI_perc', \n",
    "                     'gross',\n",
    "                     'ROI',\n",
    "                     'num_critic_for_reviews',\n",
    "                     'oscar_nom_movie',\n",
    "                     'decade',\n",
    "                     'num_voted_users',\n",
    "                     'num_user_for_reviews',\n",
    "                     'imdb_score'], axis = 1) # removing variables not known before a movie releases\n",
    "y = imputed_DFL3.ROI"
   ]
  },
  {
   "cell_type": "markdown",
   "metadata": {},
   "source": [
    "### 1. OLS Model for ROI"
   ]
  },
  {
   "cell_type": "code",
   "execution_count": 113,
   "metadata": {},
   "outputs": [
    {
     "name": "stderr",
     "output_type": "stream",
     "text": [
      "/Users/mayank/anaconda/lib/python3.6/site-packages/statsmodels/base/model.py:1100: RuntimeWarning: invalid value encountered in true_divide\n",
      "  return self.params / self.bse\n",
      "/Users/mayank/anaconda/lib/python3.6/site-packages/scipy/stats/_distn_infrastructure.py:877: RuntimeWarning: invalid value encountered in greater\n",
      "  return (self.a < x) & (x < self.b)\n",
      "/Users/mayank/anaconda/lib/python3.6/site-packages/scipy/stats/_distn_infrastructure.py:877: RuntimeWarning: invalid value encountered in less\n",
      "  return (self.a < x) & (x < self.b)\n",
      "/Users/mayank/anaconda/lib/python3.6/site-packages/scipy/stats/_distn_infrastructure.py:1831: RuntimeWarning: invalid value encountered in less_equal\n",
      "  cond2 = cond0 & (x <= self.a)\n"
     ]
    },
    {
     "data": {
      "text/html": [
       "<div>\n",
       "<style scoped>\n",
       "    .dataframe tbody tr th:only-of-type {\n",
       "        vertical-align: middle;\n",
       "    }\n",
       "\n",
       "    .dataframe tbody tr th {\n",
       "        vertical-align: top;\n",
       "    }\n",
       "\n",
       "    .dataframe thead th {\n",
       "        text-align: right;\n",
       "    }\n",
       "</style>\n",
       "<table border=\"1\" class=\"dataframe\">\n",
       "  <thead>\n",
       "    <tr style=\"text-align: right;\">\n",
       "      <th></th>\n",
       "      <th>coefs</th>\n",
       "      <th>pvals</th>\n",
       "    </tr>\n",
       "  </thead>\n",
       "  <tbody>\n",
       "    <tr>\n",
       "      <th>Comedy</th>\n",
       "      <td>16421041.84</td>\n",
       "      <td>0.00</td>\n",
       "    </tr>\n",
       "    <tr>\n",
       "      <th>Sci-Fi</th>\n",
       "      <td>28608986.90</td>\n",
       "      <td>0.00</td>\n",
       "    </tr>\n",
       "    <tr>\n",
       "      <th>Actor1_ROITop10</th>\n",
       "      <td>61208496.88</td>\n",
       "      <td>0.00</td>\n",
       "    </tr>\n",
       "    <tr>\n",
       "      <th>Actor2_ROIpercTop10</th>\n",
       "      <td>-37555731.47</td>\n",
       "      <td>0.01</td>\n",
       "    </tr>\n",
       "    <tr>\n",
       "      <th>Actor3_ROIpercTop10</th>\n",
       "      <td>41055493.54</td>\n",
       "      <td>0.01</td>\n",
       "    </tr>\n",
       "    <tr>\n",
       "      <th>Actor1_grossTop10</th>\n",
       "      <td>-48818039.28</td>\n",
       "      <td>0.00</td>\n",
       "    </tr>\n",
       "    <tr>\n",
       "      <th>Director_grossTop10</th>\n",
       "      <td>64948441.69</td>\n",
       "      <td>0.00</td>\n",
       "    </tr>\n",
       "    <tr>\n",
       "      <th>content_rating_PG-13</th>\n",
       "      <td>12825390.81</td>\n",
       "      <td>0.05</td>\n",
       "    </tr>\n",
       "    <tr>\n",
       "      <th>content_rating_R</th>\n",
       "      <td>20983730.35</td>\n",
       "      <td>0.00</td>\n",
       "    </tr>\n",
       "    <tr>\n",
       "      <th>clusters_kmeans</th>\n",
       "      <td>-4906850.40</td>\n",
       "      <td>0.00</td>\n",
       "    </tr>\n",
       "  </tbody>\n",
       "</table>\n",
       "</div>"
      ],
      "text/plain": [
       "                            coefs  pvals\n",
       "Comedy                16421041.84   0.00\n",
       "Sci-Fi                28608986.90   0.00\n",
       "Actor1_ROITop10       61208496.88   0.00\n",
       "Actor2_ROIpercTop10  -37555731.47   0.01\n",
       "Actor3_ROIpercTop10   41055493.54   0.01\n",
       "Actor1_grossTop10    -48818039.28   0.00\n",
       "Director_grossTop10   64948441.69   0.00\n",
       "content_rating_PG-13  12825390.81   0.05\n",
       "content_rating_R      20983730.35   0.00\n",
       "clusters_kmeans       -4906850.40   0.00"
      ]
     },
     "execution_count": 113,
     "metadata": {},
     "output_type": "execute_result"
    }
   ],
   "source": [
    "import statsmodels.api as sm\n",
    "\n",
    "model = sm.OLS(y, X).fit()\n",
    "predictions = model.predict(X)\n",
    "\n",
    "# Print out the statistics\n",
    "ols_summary = pd.DataFrame(data = {'coefs':round(model.params,2), 'pvals':round(model.pvalues,2)})\n",
    "\n",
    "ols_summary.loc[ols_summary['pvals'] <= 0.05,:]"
   ]
  },
  {
   "cell_type": "markdown",
   "metadata": {},
   "source": [
    "### 2. RF Model for ROI"
   ]
  },
  {
   "cell_type": "code",
   "execution_count": 114,
   "metadata": {},
   "outputs": [],
   "source": [
    "y = np.array(y)\n",
    "\n",
    "feature_list = list(X.columns) # saving feature names for later use\n",
    "X = np.array(X)"
   ]
  },
  {
   "cell_type": "code",
   "execution_count": 115,
   "metadata": {},
   "outputs": [],
   "source": [
    "from sklearn.model_selection import train_test_split\n",
    "# Split the data into training and testing sets\n",
    "train_features, test_features, train_labels, test_labels = train_test_split(X, \n",
    "                                                                            y, \n",
    "                                                                            test_size = 0.3, \n",
    "                                                                            random_state = 100)"
   ]
  },
  {
   "cell_type": "markdown",
   "metadata": {},
   "source": [
    "Baseline Error"
   ]
  },
  {
   "cell_type": "code",
   "execution_count": 116,
   "metadata": {},
   "outputs": [
    {
     "name": "stdout",
     "output_type": "stream",
     "text": [
      "Average baseline error:  28697494.45\n"
     ]
    }
   ],
   "source": [
    "baseline_preds = train_labels.mean()\n",
    "\n",
    "baseline_errors = abs(baseline_preds - test_labels)\n",
    "print('Average baseline error: ', round(np.mean(baseline_errors), 2))"
   ]
  },
  {
   "cell_type": "code",
   "execution_count": 117,
   "metadata": {},
   "outputs": [],
   "source": [
    "# Import the model we are using\n",
    "from sklearn.ensemble import RandomForestRegressor\n",
    "\n",
    "# Instantiate model with 1000 decision trees\n",
    "rf = RandomForestRegressor(n_estimators = 1000, \n",
    "                           random_state = 100)\n",
    "\n",
    "# Train the model on training data\n",
    "rf.fit(train_features, train_labels);"
   ]
  },
  {
   "cell_type": "code",
   "execution_count": 118,
   "metadata": {},
   "outputs": [
    {
     "data": {
      "text/plain": [
       "6186460.484737113"
      ]
     },
     "execution_count": 118,
     "metadata": {},
     "output_type": "execute_result"
    }
   ],
   "source": [
    "pred_train = rf.predict(train_features)\n",
    "er = abs(pred_train - train_labels)\n",
    "np.mean(er)"
   ]
  },
  {
   "cell_type": "markdown",
   "metadata": {},
   "source": [
    "Making predictions on the test set"
   ]
  },
  {
   "cell_type": "code",
   "execution_count": 119,
   "metadata": {
    "scrolled": true
   },
   "outputs": [],
   "source": [
    "# Use the forest's predict method on the test data\n",
    "predictions = rf.predict(test_features)"
   ]
  },
  {
   "cell_type": "markdown",
   "metadata": {},
   "source": [
    "OOS R2:"
   ]
  },
  {
   "cell_type": "code",
   "execution_count": 120,
   "metadata": {},
   "outputs": [
    {
     "data": {
      "text/plain": [
       "0.6941826542069861"
      ]
     },
     "execution_count": 120,
     "metadata": {},
     "output_type": "execute_result"
    }
   ],
   "source": [
    "SST = np.sum((np.mean(train_labels) - test_labels)**2)\n",
    "SSE = np.sum((predictions - test_labels)**2)\n",
    "\n",
    "1 - (SSE/SST)"
   ]
  },
  {
   "cell_type": "markdown",
   "metadata": {},
   "source": [
    "__Variable Importances__"
   ]
  },
  {
   "cell_type": "code",
   "execution_count": 121,
   "metadata": {},
   "outputs": [
    {
     "name": "stdout",
     "output_type": "stream",
     "text": [
      "Variable: clusters_kmeans      Importance: 0.37\n",
      "Variable: Director_grossTop10  Importance: 0.16\n",
      "Variable: prolific_director    Importance: 0.15\n",
      "Variable: budget               Importance: 0.09\n",
      "Variable: director_facebook_likes Importance: 0.04\n",
      "Variable: Director_ROITop10    Importance: 0.03\n",
      "Variable: actor_2_facebook_likes Importance: 0.02\n",
      "Variable: actor_3_facebook_likes Importance: 0.02\n",
      "Variable: actor_1_facebook_likes Importance: 0.01\n",
      "Variable: facenumber_in_poster Importance: 0.01\n",
      "Variable: oscar_nom_actor      Importance: 0.01\n",
      "Variable: Fantasy              Importance: 0.01\n",
      "Variable: Action               Importance: 0.01\n",
      "Variable: Comedy               Importance: 0.01\n",
      "Variable: Actor1_ROITop10      Importance: 0.01\n",
      "Variable: Actor2_ROITop10      Importance: 0.01\n",
      "Variable: Actor1_ROIpercTop10  Importance: 0.01\n",
      "Variable: Director_ROIpercTop10 Importance: 0.01\n",
      "Variable: content_rating_PG-13 Importance: 0.01\n",
      "Variable: Western              Importance: 0.0\n",
      "Variable: Horror               Importance: 0.0\n",
      "Variable: Crime                Importance: 0.0\n",
      "Variable: Biography            Importance: 0.0\n",
      "Variable: Mystery              Importance: 0.0\n",
      "Variable: Thriller             Importance: 0.0\n",
      "Variable: Drama                Importance: 0.0\n",
      "Variable: Animation            Importance: 0.0\n",
      "Variable: Romance              Importance: 0.0\n",
      "Variable: Family               Importance: 0.0\n",
      "Variable: Sci-Fi               Importance: 0.0\n",
      "Variable: Adventure            Importance: 0.0\n",
      "Variable: Actor3_ROITop10      Importance: 0.0\n",
      "Variable: Actor2_ROIpercTop10  Importance: 0.0\n",
      "Variable: Actor3_ROIpercTop10  Importance: 0.0\n",
      "Variable: Actor1_grossTop10    Importance: 0.0\n",
      "Variable: Actor2_grossTop10    Importance: 0.0\n",
      "Variable: Actor3_grossTop10    Importance: 0.0\n",
      "Variable: color_ Black and White Importance: 0.0\n",
      "Variable: content_rating_G     Importance: 0.0\n",
      "Variable: content_rating_NC-17 Importance: 0.0\n",
      "Variable: content_rating_PG    Importance: 0.0\n",
      "Variable: content_rating_R     Importance: 0.0\n",
      "Variable: content_rating_Unrated Importance: 0.0\n",
      "Variable: content_rating_X     Importance: 0.0\n"
     ]
    }
   ],
   "source": [
    "# Get numerical feature importances\n",
    "importances = list(rf.feature_importances_)\n",
    "# List of tuples with variable and importance\n",
    "feature_importances = [(feature, round(importance, 2)) for feature, importance in zip(feature_list, importances)]\n",
    "# Sort the feature importances by most important first\n",
    "feature_importances = sorted(feature_importances, key = lambda x: x[1], reverse = True)\n",
    "# Print out the feature and importances \n",
    "[print('Variable: {:20} Importance: {}'.format(*pair)) for pair in feature_importances];"
   ]
  },
  {
   "cell_type": "markdown",
   "metadata": {},
   "source": [
    "Exporting one tree for visualization"
   ]
  },
  {
   "cell_type": "code",
   "execution_count": 122,
   "metadata": {},
   "outputs": [],
   "source": [
    "# Import tools needed for visualization\n",
    "from sklearn.tree import export_graphviz\n",
    "import pydot\n",
    "\n",
    "# Limit depth of tree to 3 levels\n",
    "rf_small = RandomForestRegressor(n_estimators=10, max_depth = 3)\n",
    "rf_small.fit(train_features, train_labels)\n",
    "# Extract the small tree\n",
    "tree_small = rf_small.estimators_[5]\n",
    "# Save the tree as a png image\n",
    "export_graphviz(tree_small, out_file = 'small_tree_roi.dot', feature_names = feature_list, rounded = True, precision = 1)\n",
    "(graph, ) = pydot.graph_from_dot_file('small_tree_roi.dot')\n",
    "graph.write_png('small_tree_roi.png');"
   ]
  },
  {
   "cell_type": "markdown",
   "metadata": {},
   "source": [
    "### 3. OLS Model for Facebook Likes"
   ]
  },
  {
   "cell_type": "code",
   "execution_count": 97,
   "metadata": {},
   "outputs": [],
   "source": [
    "X = imputed_DFL3.drop(['id',\n",
    "                     'movie_facebook_likes',\n",
    "                     'title_year', # because of VIF\n",
    "                     'duration',\n",
    "                     'ROI_perc', \n",
    "                     'gross',\n",
    "                     'ROI',\n",
    "                     'num_critic_for_reviews',\n",
    "                     'oscar_nom_movie',\n",
    "                     'decade',\n",
    "                     'num_voted_users',\n",
    "                     'num_user_for_reviews',\n",
    "                     'actor_1_facebook_likes', # data issue - most values are exactly same as movie likes\n",
    "                     'imdb_score'], axis = 1) # removing variables not known before a movie releases\n",
    "y = imputed_DFL3.movie_facebook_likes"
   ]
  },
  {
   "cell_type": "code",
   "execution_count": 98,
   "metadata": {},
   "outputs": [
    {
     "data": {
      "text/plain": [
       "0.15520986020834404"
      ]
     },
     "execution_count": 98,
     "metadata": {},
     "output_type": "execute_result"
    }
   ],
   "source": [
    "from sklearn.neighbors import KNeighborsRegressor\n",
    "knn = KNeighborsRegressor(n_neighbors = 10)\n",
    "knn.fit(X,y)\n",
    "preds = knn.predict(X)\n",
    "SST = np.sum((np.mean(y) - y)**2)\n",
    "SSE = np.sum((preds - y)**2)\n",
    "\n",
    "1 - (SSE/SST) # R2"
   ]
  },
  {
   "cell_type": "code",
   "execution_count": 99,
   "metadata": {},
   "outputs": [
    {
     "name": "stderr",
     "output_type": "stream",
     "text": [
      "/Users/mayank/anaconda/lib/python3.6/site-packages/statsmodels/base/model.py:1100: RuntimeWarning: invalid value encountered in true_divide\n",
      "  return self.params / self.bse\n",
      "/Users/mayank/anaconda/lib/python3.6/site-packages/scipy/stats/_distn_infrastructure.py:877: RuntimeWarning: invalid value encountered in greater\n",
      "  return (self.a < x) & (x < self.b)\n",
      "/Users/mayank/anaconda/lib/python3.6/site-packages/scipy/stats/_distn_infrastructure.py:877: RuntimeWarning: invalid value encountered in less\n",
      "  return (self.a < x) & (x < self.b)\n",
      "/Users/mayank/anaconda/lib/python3.6/site-packages/scipy/stats/_distn_infrastructure.py:1831: RuntimeWarning: invalid value encountered in less_equal\n",
      "  cond2 = cond0 & (x <= self.a)\n"
     ]
    },
    {
     "data": {
      "text/html": [
       "<div>\n",
       "<style scoped>\n",
       "    .dataframe tbody tr th:only-of-type {\n",
       "        vertical-align: middle;\n",
       "    }\n",
       "\n",
       "    .dataframe tbody tr th {\n",
       "        vertical-align: top;\n",
       "    }\n",
       "\n",
       "    .dataframe thead th {\n",
       "        text-align: right;\n",
       "    }\n",
       "</style>\n",
       "<table border=\"1\" class=\"dataframe\">\n",
       "  <thead>\n",
       "    <tr style=\"text-align: right;\">\n",
       "      <th></th>\n",
       "      <th>coefs</th>\n",
       "      <th>pvals</th>\n",
       "    </tr>\n",
       "  </thead>\n",
       "  <tbody>\n",
       "    <tr>\n",
       "      <th>Action</th>\n",
       "      <td>2751957.15</td>\n",
       "      <td>0.04</td>\n",
       "    </tr>\n",
       "    <tr>\n",
       "      <th>Adventure</th>\n",
       "      <td>4685836.22</td>\n",
       "      <td>0.01</td>\n",
       "    </tr>\n",
       "    <tr>\n",
       "      <th>Actor1_ROIpercTop10</th>\n",
       "      <td>-6693039.71</td>\n",
       "      <td>0.01</td>\n",
       "    </tr>\n",
       "    <tr>\n",
       "      <th>Actor1_grossTop10</th>\n",
       "      <td>17904335.59</td>\n",
       "      <td>0.00</td>\n",
       "    </tr>\n",
       "  </tbody>\n",
       "</table>\n",
       "</div>"
      ],
      "text/plain": [
       "                           coefs  pvals\n",
       "Action                2751957.15   0.04\n",
       "Adventure             4685836.22   0.01\n",
       "Actor1_ROIpercTop10  -6693039.71   0.01\n",
       "Actor1_grossTop10    17904335.59   0.00"
      ]
     },
     "execution_count": 99,
     "metadata": {},
     "output_type": "execute_result"
    }
   ],
   "source": [
    "import statsmodels.api as sm\n",
    "\n",
    "# Note the difference in argument order\n",
    "model = sm.OLS(y, X).fit()\n",
    "predictions = model.predict(X) # make the predictions by the model\n",
    "\n",
    "# Print out the statistics\n",
    "ols_summary = pd.DataFrame(data = {'coefs':round(model.params,2), 'pvals':round(model.pvalues,2)})\n",
    "ols_summary.loc[ols_summary['pvals'] <= 0.05,:]"
   ]
  },
  {
   "cell_type": "markdown",
   "metadata": {},
   "source": [
    "### 4. Random Forest for Facebook Likes"
   ]
  },
  {
   "cell_type": "code",
   "execution_count": 100,
   "metadata": {},
   "outputs": [],
   "source": [
    "y = np.array(y)\n",
    "\n",
    "feature_list = list(X.columns) # saving feature names for later use\n",
    "X = np.array(X)"
   ]
  },
  {
   "cell_type": "code",
   "execution_count": 101,
   "metadata": {},
   "outputs": [],
   "source": [
    "from sklearn.model_selection import train_test_split\n",
    "# Split the data into training and testing sets\n",
    "train_features, test_features, train_labels, test_labels = train_test_split(X, \n",
    "                                                                            y, \n",
    "                                                                            test_size = 0.3, \n",
    "                                                                            random_state = 100)"
   ]
  },
  {
   "cell_type": "markdown",
   "metadata": {},
   "source": [
    "Baseline Error"
   ]
  },
  {
   "cell_type": "code",
   "execution_count": 102,
   "metadata": {},
   "outputs": [
    {
     "name": "stdout",
     "output_type": "stream",
     "text": [
      "Average baseline error:  5340391.09\n"
     ]
    }
   ],
   "source": [
    "baseline_preds = train_labels.mean()\n",
    "\n",
    "baseline_errors = abs(baseline_preds - test_labels)\n",
    "print('Average baseline error: ', round(np.mean(baseline_errors), 2))"
   ]
  },
  {
   "cell_type": "code",
   "execution_count": 103,
   "metadata": {},
   "outputs": [],
   "source": [
    "# Import the model we are using\n",
    "from sklearn.ensemble import RandomForestRegressor\n",
    "\n",
    "# Instantiate model with 1000 decision trees\n",
    "rf = RandomForestRegressor(n_estimators = 1000, \n",
    "                           random_state = 100)\n",
    "\n",
    "# Train the model on training data\n",
    "rf.fit(train_features, train_labels);"
   ]
  },
  {
   "cell_type": "code",
   "execution_count": 104,
   "metadata": {},
   "outputs": [
    {
     "data": {
      "text/plain": [
       "2143260.4895850513"
      ]
     },
     "execution_count": 104,
     "metadata": {},
     "output_type": "execute_result"
    }
   ],
   "source": [
    "pred_train = rf.predict(train_features)\n",
    "er = abs(pred_train - train_labels)\n",
    "np.mean(er)"
   ]
  },
  {
   "cell_type": "markdown",
   "metadata": {},
   "source": [
    "Making predictions on the test set"
   ]
  },
  {
   "cell_type": "code",
   "execution_count": 105,
   "metadata": {
    "scrolled": true
   },
   "outputs": [],
   "source": [
    "# Use the forest's predict method on the test data\n",
    "predictions = rf.predict(test_features)"
   ]
  },
  {
   "cell_type": "markdown",
   "metadata": {},
   "source": [
    "OOS R2:"
   ]
  },
  {
   "cell_type": "code",
   "execution_count": 106,
   "metadata": {},
   "outputs": [
    {
     "data": {
      "text/plain": [
       "0.19368596197613752"
      ]
     },
     "execution_count": 106,
     "metadata": {},
     "output_type": "execute_result"
    }
   ],
   "source": [
    "SST = np.sum((np.mean(train_labels) - test_labels)**2)\n",
    "SSE = np.sum((predictions - test_labels)**2)\n",
    "\n",
    "1 - (SSE/SST)"
   ]
  },
  {
   "cell_type": "markdown",
   "metadata": {},
   "source": [
    "__Variable Importances__"
   ]
  },
  {
   "cell_type": "code",
   "execution_count": 107,
   "metadata": {},
   "outputs": [
    {
     "name": "stdout",
     "output_type": "stream",
     "text": [
      "Variable: facenumber_in_poster Importance: 0.14\n",
      "Variable: actor_3_facebook_likes Importance: 0.11\n",
      "Variable: budget               Importance: 0.09\n",
      "Variable: Actor1_grossTop10    Importance: 0.09\n",
      "Variable: actor_2_facebook_likes Importance: 0.08\n",
      "Variable: director_facebook_likes Importance: 0.07\n",
      "Variable: Action               Importance: 0.07\n",
      "Variable: oscar_nom_actor      Importance: 0.05\n",
      "Variable: prolific_director    Importance: 0.04\n",
      "Variable: clusters_kmeans      Importance: 0.04\n",
      "Variable: Crime                Importance: 0.03\n",
      "Variable: Thriller             Importance: 0.02\n",
      "Variable: Romance              Importance: 0.02\n",
      "Variable: Actor1_ROITop10      Importance: 0.02\n",
      "Variable: Actor3_grossTop10    Importance: 0.02\n",
      "Variable: Fantasy              Importance: 0.01\n",
      "Variable: Drama                Importance: 0.01\n",
      "Variable: Comedy               Importance: 0.01\n",
      "Variable: Sci-Fi               Importance: 0.01\n",
      "Variable: Adventure            Importance: 0.01\n",
      "Variable: Actor2_ROITop10      Importance: 0.01\n",
      "Variable: Actor1_ROIpercTop10  Importance: 0.01\n",
      "Variable: Actor2_grossTop10    Importance: 0.01\n",
      "Variable: Director_grossTop10  Importance: 0.01\n",
      "Variable: content_rating_PG-13 Importance: 0.01\n",
      "Variable: content_rating_R     Importance: 0.01\n",
      "Variable: Western              Importance: 0.0\n",
      "Variable: Horror               Importance: 0.0\n",
      "Variable: Biography            Importance: 0.0\n",
      "Variable: Mystery              Importance: 0.0\n",
      "Variable: Animation            Importance: 0.0\n",
      "Variable: Family               Importance: 0.0\n",
      "Variable: Actor3_ROITop10      Importance: 0.0\n",
      "Variable: Actor2_ROIpercTop10  Importance: 0.0\n",
      "Variable: Actor3_ROIpercTop10  Importance: 0.0\n",
      "Variable: Director_ROITop10    Importance: 0.0\n",
      "Variable: Director_ROIpercTop10 Importance: 0.0\n",
      "Variable: color_ Black and White Importance: 0.0\n",
      "Variable: content_rating_G     Importance: 0.0\n",
      "Variable: content_rating_NC-17 Importance: 0.0\n",
      "Variable: content_rating_PG    Importance: 0.0\n",
      "Variable: content_rating_Unrated Importance: 0.0\n",
      "Variable: content_rating_X     Importance: 0.0\n"
     ]
    }
   ],
   "source": [
    "# Get numerical feature importances\n",
    "importances = list(rf.feature_importances_)\n",
    "# List of tuples with variable and importance\n",
    "feature_importances = [(feature, round(importance, 2)) for feature, importance in zip(feature_list, importances)]\n",
    "# Sort the feature importances by most important first\n",
    "feature_importances = sorted(feature_importances, key = lambda x: x[1], reverse = True)\n",
    "# Print out the feature and importances \n",
    "[print('Variable: {:20} Importance: {}'.format(*pair)) for pair in feature_importances];"
   ]
  },
  {
   "cell_type": "markdown",
   "metadata": {},
   "source": [
    "Extracting one tree from the RF"
   ]
  },
  {
   "cell_type": "code",
   "execution_count": 110,
   "metadata": {},
   "outputs": [],
   "source": [
    "from sklearn.tree import export_graphviz\n",
    "import pydot\n",
    "\n",
    "# Limit depth of tree to 3 levels\n",
    "rf_small = RandomForestRegressor(n_estimators=10, max_depth = 3)\n",
    "rf_small.fit(train_features, train_labels)\n",
    "# Extract the small tree\n",
    "tree_small = rf_small.estimators_[5]\n",
    "# Save the tree as a png image\n",
    "export_graphviz(tree_small, out_file = 'small_tree.dot', feature_names = feature_list, rounded = True, precision = 1)\n",
    "(graph, ) = pydot.graph_from_dot_file('small_tree.dot')\n",
    "graph.write_png('small_tree.png');"
   ]
  }
 ],
 "metadata": {
  "kernelspec": {
   "display_name": "Python 3",
   "language": "python",
   "name": "python3"
  },
  "language_info": {
   "codemirror_mode": {
    "name": "ipython",
    "version": 3
   },
   "file_extension": ".py",
   "mimetype": "text/x-python",
   "name": "python",
   "nbconvert_exporter": "python",
   "pygments_lexer": "ipython3",
   "version": "3.6.4"
  }
 },
 "nbformat": 4,
 "nbformat_minor": 2
}
